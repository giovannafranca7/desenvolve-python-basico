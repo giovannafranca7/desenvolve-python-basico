{
 "cells": [
  {
   "cell_type": "markdown",
   "id": "0d5035b5",
   "metadata": {},
   "source": [
    "# Listas\n",
    "\n",
    "## Aulas 6.1 a 6.5 "
   ]
  },
  {
   "cell_type": "markdown",
   "id": "0bdece85",
   "metadata": {},
   "source": [
    "### Q1. \n",
    "\n",
    "Usando a função embutida ```map``` e criando uma função ```lambda```, transforme uma lista com os raios de múltiplas circunferências em uma nova lista com as respectivas áreas. O cálculo de cada área é dado por: ```pi*(raio**2)```\n",
    "- Use a constante pi da biblioteca math \n",
    "- Arredonde o resultado para 2 casas decimais\n"
   ]
  },
  {
   "cell_type": "code",
   "execution_count": 1,
   "id": "0a258eba",
   "metadata": {},
   "outputs": [
    {
     "name": "stdout",
     "output_type": "stream",
     "text": [
      "[7.07, 2.01, 16.62, 78.54]\n"
     ]
    }
   ],
   "source": [
    "## Complete a solução\n",
    "import math\n",
    "\n",
    "raios = [1.5, 0.8, 2.3, 5.0]\n",
    "areas = list(map(lambda r: round(math.pi*(r**2), 2), raios))\n",
    "print(areas)\n",
    "## Complete a solução\n"
   ]
  },
  {
   "cell_type": "markdown",
   "id": "649a5082",
   "metadata": {},
   "source": [
    "### Q2. \n",
    "\n",
    "Crie uma função customizada e aplique a função embutida ```filter``` para operar em uma lista de listas contendo os lados de múltiplos triângulos. Construa uma nova lista contendo apenas os triângulos equiláteros, ou seja, com os três lados iguais.\n"
   ]
  },
  {
   "cell_type": "code",
   "execution_count": 2,
   "id": "47cb0573",
   "metadata": {},
   "outputs": [
    {
     "name": "stdout",
     "output_type": "stream",
     "text": [
      "[[2, 2, 2], [4, 4, 4]]\n"
     ]
    }
   ],
   "source": [
    "## Crie a função customizada\n",
    "def testa_equilatero(lados):\n",
    "    if lados[0] == lados[1] and lados[1] == lados[2]:\n",
    "        return True\n",
    "    else:\n",
    "        return False\n",
    "\n",
    "### Usando filter, aplique a função customizada aos seguintes triangulos\n",
    "triangulos  = [[2,2,2], [3,4,5], [3,2,2],[4,4,4]]\n",
    "equilateros = list(filter(testa_equilatero, triangulos))\n",
    "print(equilateros)"
   ]
  },
  {
   "cell_type": "markdown",
   "id": "bb62d219",
   "metadata": {},
   "source": [
    "### Q3. \n",
    "Crie uma função chamada ```ordena_por_comprimento``` que aceite uma lista de strings e a ordene com base no comprimento das strings, do menor para o maior. Utilize a função ```sorte``` e uma expressão ```lambda```."
   ]
  },
  {
   "cell_type": "code",
   "execution_count": 3,
   "id": "add41556",
   "metadata": {},
   "outputs": [
    {
     "name": "stdout",
     "output_type": "stream",
     "text": [
      "['Sol', 'Joao', 'Jose', 'Luna', 'Enzo', 'Maria', 'Bento', 'Gabriela', 'Fernanda']\n"
     ]
    }
   ],
   "source": [
    "\n",
    "def ordena_por_comprimento(lista):\n",
    "    return sorted(lista, key=lambda x: len(x))\n",
    "\n",
    "nomes = [\"Joao\", \"Maria\", \"Jose\", \"Gabriela\", \"Sol\", \"Luna\", \"Bento\", \"Enzo\", \"Fernanda\"]\n",
    "\n",
    "resultado = ordena_por_comprimento(nomes)\n",
    "print(resultado)\n"
   ]
  },
  {
   "cell_type": "markdown",
   "id": "8710b1a7",
   "metadata": {},
   "source": [
    "### Q4.\n",
    "\n",
    "Crie uma lista de listas (uma matriz de 2 dimensões) de tamanho $n \\times n$, com $n$ dado pelo usuário. Cada elemento da matriz deve ser o produto dos índices da linha pela coluna.\n",
    "\n",
    "Exemplo:\n",
    "```\n",
    "Digite n: 4\n",
    "Matriz:\n",
    "[[0, 0, 0, 0],\n",
    " [0, 1, 2, 3],\n",
    " [0, 2, 4, 6],\n",
    " [0, 3, 6, 9]]\n",
    "```"
   ]
  },
  {
   "cell_type": "code",
   "execution_count": 6,
   "id": "0b7ee921",
   "metadata": {},
   "outputs": [
    {
     "name": "stdout",
     "output_type": "stream",
     "text": [
      "Matriz:\n",
      "[0, 0, 0, 0]\n",
      "[0, 1, 2, 3]\n",
      "[0, 2, 4, 6]\n",
      "[0, 3, 6, 9]\n"
     ]
    }
   ],
   "source": [
    "\n",
    "def cria_matriz(n):\n",
    "    matriz = [[i * j for j in range(n)] for i in range(n)]\n",
    "    return matriz\n",
    "\n",
    "n = int(input(\"Digite n: \"))\n",
    "\n",
    "resultado = cria_matriz(n)\n",
    "\n",
    "print(\"Matriz:\")\n",
    "for linha in resultado:\n",
    "    print(linha)"
   ]
  },
  {
   "cell_type": "markdown",
   "id": "f41781df",
   "metadata": {},
   "source": [
    "### Q5.\n",
    "\n",
    "Dada uma lista de números inteiros, implemente uma função em Python chamada ```pares_unicos``` que encontre e retorne todos os pares únicos de elementos na lista cuja soma seja igual a um determinado valor. Considere que a ordem dos pares não é relevante."
   ]
  },
  {
   "cell_type": "code",
   "execution_count": 8,
   "id": "7a76f765",
   "metadata": {},
   "outputs": [
    {
     "name": "stdout",
     "output_type": "stream",
     "text": [
      "[(3, 7), (4, 6)]\n"
     ]
    }
   ],
   "source": [
    "def pares_unicos(numeros, soma_objetivo):\n",
    "    pares = set()  # Usamos um conjunto para evitar duplicatas\n",
    "    visto = set()  # Conjunto para armazenar os números já vistos\n",
    "    \n",
    "    for num in numeros:\n",
    "        complemento = soma_objetivo - num\n",
    "        if complemento in visto:\n",
    "            # Adiciona o par ordenado como um tupla (menor, maior)\n",
    "            pares.add((min(num, complemento), max(num, complemento)))\n",
    "        visto.add(num)  # Adiciona o número atual ao conjunto de vistos\n",
    "    \n",
    "    return list(pares)  # Converte o conjunto de pares de volta para uma lista\n",
    "\n",
    "nums = [3, 4, 5, 6, 7]\n",
    "soma = 10\n",
    "resultado = pares_unicos(nums, soma)\n",
    "print(resultado)  "
   ]
  },
  {
   "cell_type": "markdown",
   "id": "87e44893",
   "metadata": {},
   "source": [
    "### Q5.\n",
    "\n",
    "Escreva um programa para encontrar a diferença entre duas listas, incluindo elementos duplicados.\n",
    "\n",
    "Ex:\n",
    "```\n",
    "Listas originais: \n",
    "[1, 1, 2, 3, 3, 4, 4, 5, 6, 7]\n",
    "[1, 1, 2, 4, 5, 6]\n",
    "Diferença entre as listas:\n",
    "[3, 3, 4, 7]\n",
    "```"
   ]
  },
  {
   "cell_type": "code",
   "execution_count": 9,
   "id": "7edc027c",
   "metadata": {},
   "outputs": [
    {
     "name": "stdout",
     "output_type": "stream",
     "text": [
      "Listas originais:\n",
      "[1, 1, 2, 3, 3, 4, 4, 5, 6, 7]\n",
      "[1, 1, 2, 4, 5, 6]\n",
      "Diferença entre as listas:\n",
      "[3, 3, 4, 7]\n"
     ]
    }
   ],
   "source": [
    "\n",
    "def diferenca_listas(lista1, lista2):\n",
    "    \n",
    "    lista1_copy = lista1.copy()\n",
    "    lista2_copy = lista2.copy()\n",
    "    \n",
    "    for item in lista2_copy:\n",
    "        if item in lista1_copy:\n",
    "            lista1_copy.remove(item)\n",
    "    \n",
    "    return lista1_copy\n",
    "\n",
    "lista1 = [1, 1, 2, 3, 3, 4, 4, 5, 6, 7]\n",
    "lista2 = [1, 1, 2, 4, 5, 6]\n",
    "\n",
    "resultado = diferenca_listas(lista1, lista2)\n",
    "print(\"Listas originais:\")\n",
    "print(lista1)\n",
    "print(lista2)\n",
    "print(\"Diferença entre as listas:\")\n",
    "print(resultado) "
   ]
  },
  {
   "cell_type": "markdown",
   "id": "f4c4236d",
   "metadata": {},
   "source": [
    "### Q6.\n",
    "\n",
    "Dada uma lista aleatória, escreva um programa que separa os valores em listas menores de acordo com o tamanho solicitado. Caso não seja possível repartir igualmente a lista original, a última sublista deve conter os elementos remanescentes, como indicado no exemplo a seguir.\n",
    "\n",
    "Note que seu programa deve continuar executando em um laço infinito até que o usuário informe o tamanho 0 na entrada solicitada.\n",
    "\n",
    "```\n",
    "Lista original:\n",
    "[12, 45, 23, 67, 78, 90, 45, 32, 100, 76, 38, 62, 73, 29, 83]\n",
    "\n",
    "Tamanho para divisão: 3\n",
    "Subslistas:\n",
    "[[12, 45, 23], [67, 78, 90], [45, 32, 100], [76, 38, 62], [73, 29, 83]]\n",
    "\n",
    "Tamanho para divisão: 4\n",
    "Subslistas: [[12, 45, 23, 67], [78, 90, 45, 32], [100, 76, 38, 62], [73, 29, 83]]\n",
    "\n",
    "Tamanho para divisão: 0\n",
    "```"
   ]
  },
  {
   "cell_type": "code",
   "execution_count": 12,
   "id": "792563de",
   "metadata": {},
   "outputs": [
    {
     "name": "stdout",
     "output_type": "stream",
     "text": [
      "Lista original:\n",
      "[38, 13, 18, 69, 72, 89, 3, 66, 95, 13, 69, 34, 88, 74, 33, 58, 45, 59, 26, 45]\n",
      "Subslistas:\n",
      "[[38, 13], [18, 69], [72, 89], [3, 66], [95, 13], [69, 34], [88, 74], [33, 58], [45, 59], [26, 45]]\n",
      "2\n",
      "Lista original:\n",
      "[38, 13, 18, 69, 72, 89, 3, 66, 95, 13, 69, 34, 88, 74, 33, 58, 45, 59, 26, 45]\n"
     ]
    }
   ],
   "source": [
    "\n",
    "import random\n",
    "\n",
    "lista = [random.randint(1, 100) for i in range(20)]\n",
    "\n",
    "while True:\n",
    "    print(\"Lista original:\")\n",
    "    print(lista)\n",
    "    \n",
    "    tamanho = int(input(\"Tamanho para divisão: \"))\n",
    "    \n",
    "    if tamanho == 0:\n",
    "        break\n",
    "    \n",
    "    if tamanho <= 0:\n",
    "        print(\"Por favor, insira um tamanho válido.\")\n",
    "        continue\n",
    "    \n",
    "    subslistas = [lista[i:i + tamanho] for i in range(0, len(lista), tamanho)]\n",
    "    \n",
    "    print(\"Subslistas:\")\n",
    "    print(subslistas)\n",
    "    print(tamanho)  "
   ]
  },
  {
   "cell_type": "markdown",
   "id": "c65be32f",
   "metadata": {},
   "source": [
    "### Q7.\n",
    "\n",
    "Você está desenvolvendo um programa para determinar o vencedor de um jogo da velha. Escreva uma função ```avalia_tabuleiro()``` que recebe uma lista representando o estado atual do tabuleiro e determina se há um vencedor. \n",
    "\n",
    "A lista terá 3 sublistas, cada uma representando uma linha do tabuleiro. Cada elemento das sublistas pode ser 'X', 'O' ou vazio (' ').\n",
    "\n",
    "O programa deve imprimir o vencedor ('X', 'O'), se houver um, ou \"Empate\" se não houver vencedor. Um vencedor é determinado se houver três 'X' ou três 'O' em linha (horizontal, vertical ou diagonal).\n",
    "\n",
    "Exemplo:\n",
    "```python\n",
    "tabuleiro = [\n",
    "    ['X', 'O', 'X'],\n",
    "    [' ', 'X', 'O'],\n",
    "    ['O', ' ', 'O']\n",
    "]\n",
    "```\n",
    "O resultado seria \"Empate\", pois não há um vencedor no exemplo fornecido. \n",
    "\n",
    "Exemplo 2:\n",
    "```python\n",
    "tabuleiro = [\n",
    "    ['O', 'X', 'O'],\n",
    "    ['X', 'O', 'X'],\n",
    "    ['X', ' ', 'O']\n",
    "]\n",
    "```\n",
    "O resultado seria \"O\", pois 'O' venceu na diagonal central."
   ]
  },
  {
   "cell_type": "code",
   "execution_count": 13,
   "id": "720ca24d",
   "metadata": {},
   "outputs": [
    {
     "name": "stdout",
     "output_type": "stream",
     "text": [
      "X\n",
      "X\n",
      "Empate\n",
      "O\n",
      "Empate\n"
     ]
    }
   ],
   "source": [
    "\n",
    "def avalia_tabuleiro(tabuleiro):\n",
    "    # Checa linhas e colunas\n",
    "    for i in range(3):\n",
    "        # Checa linhas\n",
    "        if tabuleiro[i][0] == tabuleiro[i][1] == tabuleiro[i][2] != ' ':\n",
    "            return tabuleiro[i][0]\n",
    "        # Checa colunas\n",
    "        if tabuleiro[0][i] == tabuleiro[1][i] == tabuleiro[2][i] != ' ':\n",
    "            return tabuleiro[0][i]\n",
    "\n",
    "    # Checa diagonais\n",
    "    if tabuleiro[0][0] == tabuleiro[1][1] == tabuleiro[2][2] != ' ':\n",
    "        return tabuleiro[0][0]\n",
    "    if tabuleiro[0][2] == tabuleiro[1][1] == tabuleiro[2][0] != ' ':\n",
    "        return tabuleiro[0][2]\n",
    "\n",
    "    # Se não houver vencedor\n",
    "    return \"Empate\"\n",
    "\n",
    "# Testando a função com os tabuleiros fornecidos\n",
    "\n",
    "tabuleiro1 = [\n",
    "    ['X', 'O', 'X'],\n",
    "    [' ', 'X', 'O'],\n",
    "    ['O', ' ', 'X']\n",
    "]\n",
    "\n",
    "tabuleiro2 = [\n",
    "    ['X', 'O', 'O'],\n",
    "    ['X', 'X', 'O'],\n",
    "    ['X', 'O', 'X']\n",
    "]\n",
    "\n",
    "tabuleiro3 = [\n",
    "    [' ', ' ', ' '],\n",
    "    ['X', ' ', 'O'],\n",
    "    ['O', 'X', 'X']\n",
    "]\n",
    "\n",
    "tabuleiro4 = [\n",
    "    ['O', 'O', 'O'],\n",
    "    ['X', ' ', 'X'],\n",
    "    ['O', 'X', 'X']\n",
    "]\n",
    "\n",
    "tabuleiro5 = [\n",
    "    ['X', 'X', 'O'],\n",
    "    ['X', ' ', 'O'],\n",
    "    ['O', 'O', 'X']\n",
    "]\n",
    "\n",
    "# Resultados\n",
    "print(avalia_tabuleiro(tabuleiro1))  # Saída esperada: \"X\"\n",
    "print(avalia_tabuleiro(tabuleiro2))  # Saída esperada: \"X\"\n",
    "print(avalia_tabuleiro(tabuleiro3))  # Saída esperada: \"Empate\"\n",
    "print(avalia_tabuleiro(tabuleiro4))  # Saída esperada: \"O\"\n",
    "print(avalia_tabuleiro(tabuleiro5))  # Saída esperada: \"Empate\""
   ]
  }
 ],
 "metadata": {
  "kernelspec": {
   "display_name": "Python 3 (ipykernel)",
   "language": "python",
   "name": "python3"
  },
  "language_info": {
   "codemirror_mode": {
    "name": "ipython",
    "version": 3
   },
   "file_extension": ".py",
   "mimetype": "text/x-python",
   "name": "python",
   "nbconvert_exporter": "python",
   "pygments_lexer": "ipython3",
   "version": "3.11.7"
  }
 },
 "nbformat": 4,
 "nbformat_minor": 5
}
