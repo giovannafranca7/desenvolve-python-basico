{
 "cells": [
  {
   "cell_type": "code",
   "execution_count": 3,
   "metadata": {},
   "outputs": [
    {
     "name": "stdout",
     "output_type": "stream",
     "text": [
      "Digite pelo menos 4 números inteiros. Para encerrar, digite 'sair'.\n",
      "A lista original: [6, 8, 4, 2, 4, 3]\n",
      "Os 3 primeiros elementos: [6, 8, 4]\n",
      "Os 2 últimos elementos: [4, 3]\n",
      "A lista invertida: [3, 4, 2, 4, 8, 6]\n",
      "Os elementos de índice par: [6, 4, 4]\n",
      "Os elementos de índice ímpar: [8, 2, 3]\n"
     ]
    }
   ],
   "source": [
    "# Inicializa uma lista vazia\n",
    "numeros = []\n",
    "\n",
    "# Solicita a entrada de números inteiros indefinidamente\n",
    "print(\"Digite pelo menos 4 números inteiros. Para encerrar, digite 'sair'.\")\n",
    "while True:\n",
    "    entrada = input(\"Digite um número inteiro (ou 'sair' para finalizar): \")\n",
    "    if entrada.lower() == 'sair':\n",
    "        if len(numeros) < 4:\n",
    "            print(\"Você deve inserir pelo menos 4 números.\")\n",
    "            continue\n",
    "        break\n",
    "    try:\n",
    "        numero = int(entrada)\n",
    "        numeros.append(numero)\n",
    "    except ValueError:\n",
    "        print(\"Por favor, insira um número inteiro válido.\")\n",
    "\n",
    "# Exibe as informações solicitadas\n",
    "print(\"A lista original:\", numeros)\n",
    "print(\"Os 3 primeiros elementos:\", numeros[:3])\n",
    "print(\"Os 2 últimos elementos:\", numeros[-2:])\n",
    "print(\"A lista invertida:\", numeros[::-1])\n",
    "print(\"Os elementos de índice par:\", numeros[::2])\n",
    "print(\"Os elementos de índice ímpar:\", numeros[1::2])"
   ]
  }
 ],
 "metadata": {
  "kernelspec": {
   "display_name": "base",
   "language": "python",
   "name": "python3"
  },
  "language_info": {
   "codemirror_mode": {
    "name": "ipython",
    "version": 3
   },
   "file_extension": ".py",
   "mimetype": "text/x-python",
   "name": "python",
   "nbconvert_exporter": "python",
   "pygments_lexer": "ipython3",
   "version": "3.11.7"
  }
 },
 "nbformat": 4,
 "nbformat_minor": 2
}
