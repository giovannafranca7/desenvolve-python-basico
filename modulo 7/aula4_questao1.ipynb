{
 "cells": [
  {
   "cell_type": "code",
   "execution_count": 2,
   "metadata": {},
   "outputs": [
    {
     "name": "stdout",
     "output_type": "stream",
     "text": [
      "Frase salva em c:\\Users\\PDBD088\\Downloads\\frase.txt\n"
     ]
    }
   ],
   "source": [
    "import os\n",
    "\n",
    "# Solicita a frase do usuário\n",
    "frase = input(\"Digite uma frase: \")\n",
    "\n",
    "# Define o nome do arquivo\n",
    "nome_arquivo = \"frase.txt\"\n",
    "\n",
    "# Salva a frase no arquivo\n",
    "with open(nome_arquivo, 'w') as arquivo:\n",
    "    arquivo.write(frase)\n",
    "\n",
    "# Imprime o caminho completo do arquivo salvo\n",
    "caminho_completo = os.path.abspath(nome_arquivo)\n",
    "print(f\"Frase salva em {caminho_completo}\")"
   ]
  }
 ],
 "metadata": {
  "kernelspec": {
   "display_name": "base",
   "language": "python",
   "name": "python3"
  },
  "language_info": {
   "codemirror_mode": {
    "name": "ipython",
    "version": 3
   },
   "file_extension": ".py",
   "mimetype": "text/x-python",
   "name": "python",
   "nbconvert_exporter": "python",
   "pygments_lexer": "ipython3",
   "version": "3.11.7"
  }
 },
 "nbformat": 4,
 "nbformat_minor": 2
}
