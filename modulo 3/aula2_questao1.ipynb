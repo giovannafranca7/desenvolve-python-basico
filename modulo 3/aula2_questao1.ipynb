{
 "cells": [
  {
   "cell_type": "code",
   "execution_count": 3,
   "metadata": {},
   "outputs": [
    {
     "name": "stdout",
     "output_type": "stream",
     "text": [
      "False\n"
     ]
    }
   ],
   "source": [
    "#entrada de dados \n",
    "#idade de juliana \n",
    "#idade de cris\n",
    "idade_juliana = int(input(\"Digite a idade de juliana:\"))\n",
    "idade_cris = int(input(\"Digite a idade de cris:\"))\n",
    "\n",
    "#processamento \n",
    "#true se ambos forem maior de idade\n",
    "#<exp1> juliana é maior de idade\n",
    "#<exp2> cris é maior de idade \n",
    "#<exp1> and <exp2> \n",
    "#false em qualquer outro caso \n",
    "pode_entrar = idade_juliana >= 18 and idade_cris >= 18 \n",
    "\n",
    "#saida\n",
    "print(pode_entrar)"
   ]
  }
 ],
 "metadata": {
  "kernelspec": {
   "display_name": "base",
   "language": "python",
   "name": "python3"
  },
  "language_info": {
   "codemirror_mode": {
    "name": "ipython",
    "version": 3
   },
   "file_extension": ".py",
   "mimetype": "text/x-python",
   "name": "python",
   "nbconvert_exporter": "python",
   "pygments_lexer": "ipython3",
   "version": "3.11.7"
  }
 },
 "nbformat": 4,
 "nbformat_minor": 2
}
