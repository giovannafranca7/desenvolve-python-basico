{
 "cells": [
  {
   "cell_type": "code",
   "execution_count": 1,
   "metadata": {},
   "outputs": [
    {
     "name": "stdout",
     "output_type": "stream",
     "text": [
      "A lista elementos: [4, 8, 5, 4, 5, 6, 3, 3, 2, 4, 3, 5, 9]\n",
      "A soma dos valores da lista: 61\n",
      "A média dos valores da lista: 4.6923076923076925\n"
     ]
    }
   ],
   "source": [
    "import random\n",
    "\n",
    "num_elementos = random.randint(5, 20)\n",
    "\n",
    "elementos = [random.randint(1, 10) for _ in range(num_elementos)]\n",
    "\n",
    "soma = sum(elementos)\n",
    "media = soma / num_elementos\n",
    "\n",
    "print(\"A lista elementos:\", elementos)\n",
    "print(\"A soma dos valores da lista:\", soma)\n",
    "print(\"A média dos valores da lista:\", media)"
   ]
  }
 ],
 "metadata": {
  "kernelspec": {
   "display_name": "base",
   "language": "python",
   "name": "python3"
  },
  "language_info": {
   "codemirror_mode": {
    "name": "ipython",
    "version": 3
   },
   "file_extension": ".py",
   "mimetype": "text/x-python",
   "name": "python",
   "nbconvert_exporter": "python",
   "pygments_lexer": "ipython3",
   "version": "3.11.7"
  }
 },
 "nbformat": 4,
 "nbformat_minor": 2
}
