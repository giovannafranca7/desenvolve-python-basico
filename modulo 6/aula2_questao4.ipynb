{
 "cells": [
  {
   "cell_type": "code",
   "execution_count": 2,
   "metadata": {},
   "outputs": [
    {
     "name": "stdout",
     "output_type": "stream",
     "text": [
      "[4, 6]\n",
      "[8]\n",
      "Lista intercalada: 4 8 6\n"
     ]
    }
   ],
   "source": [
    "# Função para intercalar duas listas\n",
    "def intercalar_listas(lista1, lista2):\n",
    "    intercalada = []\n",
    "    tamanho_min = min(len(lista1), len(lista2))\n",
    "\n",
    "    # Intercala elementos\n",
    "    for i in range(tamanho_min):\n",
    "        intercalada.append(lista1[i])\n",
    "        intercalada.append(lista2[i])\n",
    "\n",
    "    # Adiciona elementos remanescentes\n",
    "    intercalada.extend(lista1[tamanho_min:])\n",
    "    intercalada.extend(lista2[tamanho_min:])\n",
    "\n",
    "    return intercalada\n",
    "\n",
    "# Recebe entradas do usuário\n",
    "quantidade1 = int(input(\"Digite a quantidade de elementos da lista 1: \"))\n",
    "lista1 = [int(input(f\"Digite o elemento {i + 1} da lista 1: \")) for i in range(quantidade1)]\n",
    "\n",
    "quantidade2 = int(input(\"Digite a quantidade de elementos da lista 2: \"))\n",
    "lista2 = [int(input(f\"Digite o elemento {i + 1} da lista 2: \")) for i in range(quantidade2)]\n",
    "\n",
    "# Intercala as listas\n",
    "lista_intercalada = intercalar_listas(lista1, lista2)\n",
    "\n",
    "# Exibe a lista intercalada\n",
    "print(lista1)\n",
    "print(lista2)\n",
    "print(\"Lista intercalada:\", ' '.join(map(str, lista_intercalada)))"
   ]
  }
 ],
 "metadata": {
  "kernelspec": {
   "display_name": "base",
   "language": "python",
   "name": "python3"
  },
  "language_info": {
   "codemirror_mode": {
    "name": "ipython",
    "version": 3
   },
   "file_extension": ".py",
   "mimetype": "text/x-python",
   "name": "python",
   "nbconvert_exporter": "python",
   "pygments_lexer": "ipython3",
   "version": "3.11.7"
  }
 },
 "nbformat": 4,
 "nbformat_minor": 2
}
