{
 "cells": [
  {
   "cell_type": "code",
   "execution_count": 3,
   "metadata": {},
   "outputs": [
    {
     "ename": "ValueError",
     "evalue": "invalid literal for int() with base 10: ''",
     "output_type": "error",
     "traceback": [
      "\u001b[1;31m---------------------------------------------------------------------------\u001b[0m",
      "\u001b[1;31mValueError\u001b[0m                                Traceback (most recent call last)",
      "Cell \u001b[1;32mIn[3], line 6\u001b[0m\n\u001b[0;32m      3\u001b[0m soma_sapo, soma_rato, soma_coelho \u001b[38;5;241m=\u001b[39m \u001b[38;5;241m0\u001b[39m, \u001b[38;5;241m0\u001b[39m, \u001b[38;5;241m0\u001b[39m\n\u001b[0;32m      5\u001b[0m \u001b[38;5;28;01mwhile\u001b[39;00m cont \u001b[38;5;241m<\u001b[39m n:\n\u001b[1;32m----> 6\u001b[0m     quantia \u001b[38;5;241m=\u001b[39m \u001b[38;5;28mint\u001b[39m(\u001b[38;5;28minput\u001b[39m(\u001b[38;5;124m\"\u001b[39m\u001b[38;5;124mdigite a quantia de cobaias usadas:\u001b[39m\u001b[38;5;124m\"\u001b[39m))\n\u001b[0;32m      7\u001b[0m     tipo \u001b[38;5;241m=\u001b[39m \u001b[38;5;28minput\u001b[39m(\u001b[38;5;124m\"\u001b[39m\u001b[38;5;124mdigite o tipo da cobaia usada:\u001b[39m\u001b[38;5;124m\"\u001b[39m)\n\u001b[0;32m      9\u001b[0m \u001b[38;5;28;01mif\u001b[39;00m tipo \u001b[38;5;241m==\u001b[39m \u001b[38;5;124m'\u001b[39m\u001b[38;5;124ms\u001b[39m\u001b[38;5;124m'\u001b[39m:\n",
      "\u001b[1;31mValueError\u001b[0m: invalid literal for int() with base 10: ''"
     ]
    }
   ],
   "source": [
    "n = int(input(\"digite a quantidade de experimentos:\"))\n",
    "cont = 0\n",
    "soma_sapo, soma_rato, soma_coelho = 0, 0, 0\n",
    "\n",
    "while cont < n:\n",
    "    quantia = int(input(\"digite a quantia de cobaias usadas:\"))\n",
    "    tipo = input(\"digite o tipo da cobaia usada:\")\n",
    "\n",
    "if tipo == 's':\n",
    "    soma_sapo += quantia\n",
    "elif tipo == 'r':\n",
    "    soma_rato += quantia\n",
    "elif tipo == 'c':\n",
    "    soma_coelho += quantia \n",
    "\n",
    "    cont += 1\n",
    "\n",
    "    print(\"total de cobaias: \", soma_sapo + soma_rato + soma_coelho )\n",
    "    print(\"total de sapos: \", soma_sapo )\n",
    "    print(\"total de ratos: \", soma_rato )\n",
    "    print(\"total de coelhos: \", soma_coelho)"
   ]
  }
 ],
 "metadata": {
  "kernelspec": {
   "display_name": "base",
   "language": "python",
   "name": "python3"
  },
  "language_info": {
   "codemirror_mode": {
    "name": "ipython",
    "version": 3
   },
   "file_extension": ".py",
   "mimetype": "text/x-python",
   "name": "python",
   "nbconvert_exporter": "python",
   "pygments_lexer": "ipython3",
   "version": "3.11.7"
  }
 },
 "nbformat": 4,
 "nbformat_minor": 2
}
