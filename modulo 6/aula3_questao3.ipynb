{
 "cells": [
  {
   "cell_type": "code",
   "execution_count": null,
   "metadata": {},
   "outputs": [],
   "source": [
    "nums = [19, 22, -10, 4, -2, -3, 5, 6, -17, -4, -1, 67, 98, -23, -6]\n",
    "\n",
    "#quando visitar um numero negativo\n",
    "#inicio de uma fatia\n",
    "#continuacao de uma fatia\n",
    "\n",
    "inicio_fatia_maior, tam_fatia_maior = 0, 0\n",
    "inicio_fatia_atual, tam_fatia_atual = 0, 0\n",
    "\n",
    "for i in range(len(nums)):\n",
    "    if nums[i] < 0:\n",
    "        tam_fatia_atual += 1\n",
    "    if tam_fatia_atual == 1: #se estou iniciando uma nova fatia\n",
    "            inicio_fatia_atual = i\n",
    "else: \n",
    "    if tam_fatia_atual > tam_fatia_maior:\n",
    "                tam_fatia_maior = tam_fatia_atual\n",
    "                inicio_fatia_maior = inicio_fatia_atual\n",
    "                tam_fatia_atual = 0\n",
    "\n",
    "                print(inicio_fatia_maior, tam_fatia_maior)\n",
    "                del nums [inicio_fatia_maior:inicio_fatia_maior + tam_fatia_maior]\n",
    "                print(nums)"
   ]
  }
 ],
 "metadata": {
  "language_info": {
   "name": "python"
  }
 },
 "nbformat": 4,
 "nbformat_minor": 2
}
