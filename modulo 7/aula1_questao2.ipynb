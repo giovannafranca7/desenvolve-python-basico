{
 "cells": [
  {
   "cell_type": "code",
   "execution_count": 6,
   "metadata": {},
   "outputs": [
    {
     "name": "stdout",
     "output_type": "stream",
     "text": [
      "Bem-vinda, giovanna frança!\n"
     ]
    }
   ],
   "source": [
    "primeiro_nome = input(\"Digite o seu primeiro nome: \")\n",
    "sobrenome = input(\"Digite seu segundo nome: \")\n",
    "\n",
    "nome_completo = primeiro_nome + \" \" + sobrenome\n",
    "\n",
    "print(f\"Bem-vinda, {nome_completo}!\")"
   ]
  }
 ],
 "metadata": {
  "kernelspec": {
   "display_name": "base",
   "language": "python",
   "name": "python3"
  },
  "language_info": {
   "codemirror_mode": {
    "name": "ipython",
    "version": 3
   },
   "file_extension": ".py",
   "mimetype": "text/x-python",
   "name": "python",
   "nbconvert_exporter": "python",
   "pygments_lexer": "ipython3",
   "version": "3.11.7"
  }
 },
 "nbformat": 4,
 "nbformat_minor": 2
}
