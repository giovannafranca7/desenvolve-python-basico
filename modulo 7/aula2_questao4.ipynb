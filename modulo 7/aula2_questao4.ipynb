{
 "cells": [
  {
   "cell_type": "code",
   "execution_count": 3,
   "metadata": {},
   "outputs": [
    {
     "name": "stdout",
     "output_type": "stream",
     "text": [
      "False\n"
     ]
    }
   ],
   "source": [
    "def validador_senha(senha):\n",
    "    # Verifica o comprimento mínimo\n",
    "    if len(senha) < 8:\n",
    "        return False\n",
    "\n",
    "    # Inicializa os flags\n",
    "    tem_maiuscula = False\n",
    "    tem_minuscula = False\n",
    "    tem_numero = False\n",
    "    tem_especial = False\n",
    "\n",
    "    # Conjunto de caracteres especiais\n",
    "    caracteres_especiais = \"!@#$%^&*()-_+=<>?[]{}|;:',.\"\n",
    "\n",
    "    # Verifica cada caractere na senha\n",
    "    for char in senha:\n",
    "        if char.isupper():\n",
    "            tem_maiuscula = True\n",
    "        elif char.islower():\n",
    "            tem_minuscula = True\n",
    "        elif char.isdigit():\n",
    "            tem_numero = True\n",
    "        elif char in caracteres_especiais:\n",
    "            tem_especial = True\n",
    "\n",
    "    # Retorna True se todos os critérios forem atendidos\n",
    "    return tem_maiuscula and tem_minuscula and tem_numero and tem_especial\n",
    "\n",
    "# Exemplo de uso:\n",
    "senha1 = input(\"digite uma senha:\")\n",
    "\n",
    "print(validador_senha(senha1))  \n"
   ]
  }
 ],
 "metadata": {
  "kernelspec": {
   "display_name": "base",
   "language": "python",
   "name": "python3"
  },
  "language_info": {
   "codemirror_mode": {
    "name": "ipython",
    "version": 3
   },
   "file_extension": ".py",
   "mimetype": "text/x-python",
   "name": "python",
   "nbconvert_exporter": "python",
   "pygments_lexer": "ipython3",
   "version": "3.11.7"
  }
 },
 "nbformat": 4,
 "nbformat_minor": 2
}
