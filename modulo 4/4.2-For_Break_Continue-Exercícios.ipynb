{
 "cells": [
  {
   "cell_type": "markdown",
   "id": "29e89030",
   "metadata": {},
   "source": [
    "# Módulo 4 - Repetições\n",
    "\n",
    "## Aulas 4.2 - Comando ```for``` e 4.3 Break e Continue"
   ]
  },
  {
   "cell_type": "markdown",
   "id": "a45b42df",
   "metadata": {},
   "source": [
    "### Q1.\n",
    "\n",
    "Crie um programa em Python que utilize o comando for para imprimir os números de 10 a 1, em ordem decrescente."
   ]
  },
  {
   "cell_type": "code",
   "execution_count": 5,
   "id": "55a75b3d",
   "metadata": {},
   "outputs": [
    {
     "name": "stdout",
     "output_type": "stream",
     "text": [
      "10\n",
      "9\n",
      "8\n",
      "7\n",
      "6\n",
      "5\n",
      "4\n",
      "3\n",
      "2\n",
      "1\n"
     ]
    }
   ],
   "source": [
    "## Escreva e execute seu código aqui\n",
    "for i in range(10, 0, -1):\n",
    "    print(i)"
   ]
  },
  {
   "cell_type": "markdown",
   "id": "94b47c36",
   "metadata": {},
   "source": [
    "### Q2.\n",
    "\n",
    "Dado um número inteiro positivo informado pelo usuário, crie um programa em Python que utilize o comando for para calcular e exibir a soma dos números de 1 até o número informado. Ou seja, $1 + 2 + 3 + ... + n$\n",
    "\n",
    "Exemplo de interação:\n",
    "```\n",
    "Digite um número: 5\n",
    "A soma dos números de 1 a 5 é 15\n",
    "```\n"
   ]
  },
  {
   "cell_type": "code",
   "execution_count": 7,
   "id": "45b71596",
   "metadata": {},
   "outputs": [
    {
     "name": "stdout",
     "output_type": "stream",
     "text": [
      "A soma dos números de 1 a 8 é 36\n"
     ]
    }
   ],
   "source": [
    "## Escreva e execute seu código aqui\n",
    "# Solicita ao usuário um número inteiro positivo\n",
    "n = int(input(\"Digite um número inteiro positivo: \"))\n",
    "\n",
    "# Inicializa a variável que armazenará a soma\n",
    "soma = 0\n",
    "\n",
    "# Loop para somar os números de 1 até n\n",
    "for i in range(1, n + 1):\n",
    "    soma += i\n",
    "\n",
    "# Exibe o resultado\n",
    "print(f\"A soma dos números de 1 a {n} é {soma}\")"
   ]
  },
  {
   "cell_type": "markdown",
   "id": "0411d170",
   "metadata": {},
   "source": [
    "### Q3.\n",
    "\n",
    "Escreva um programa que lê 10 valores inteiros positivos do usuário e ao final imprime a média dos valores digitados com duas casas decimais.\n",
    "\n",
    "```\n",
    "Digite 10 números positivos:\n",
    "3\n",
    "2\n",
    "12\n",
    "14\n",
    "20\n",
    "42\n",
    "19\n",
    "0\n",
    "8\n",
    "1\n",
    "A média dos valores digitados é 12.10\n",
    "```"
   ]
  },
  {
   "cell_type": "code",
   "execution_count": 10,
   "id": "3f72f358",
   "metadata": {},
   "outputs": [
    {
     "name": "stdout",
     "output_type": "stream",
     "text": [
      "55\n",
      "10\n",
      "5.5\n",
      "A média dos valores digitados é 5.50\n"
     ]
    }
   ],
   "source": [
    "## Escreva e execute seu código aqui\n",
    "# Inicializa a soma dos valores\n",
    "soma = 0\n",
    "\n",
    "# Lê 10 valores inteiros positivos\n",
    "for _ in range(10):\n",
    "    valor = int(input(\"Digite um valor inteiro positivo: \"))\n",
    "    soma += valor\n",
    "\n",
    "# Calcula a média\n",
    "media = soma / 10\n",
    "\n",
    "# Exibe a média com duas casas decimais\n",
    "print(soma)\n",
    "print(valor)\n",
    "print(media)\n",
    "print(f\"A média dos valores digitados é {media:.2f}\")"
   ]
  },
  {
   "cell_type": "markdown",
   "id": "d62e27ff",
   "metadata": {},
   "source": [
    "### Q4.\n",
    "\n",
    "Você vai criar um sistema que registra os resultados dos jogos do Atlético MG ao longo de um campeonato. Seu sistema vai receber os resultados de todos os jogos do Galo, e deve calcular a pontuação do time sabendo que vitórias valem 3 pontos, empates 1 ponto e derrotas 0 pontos.\n",
    "\n",
    "Entrada: <br>\n",
    "A primeira linha de entrada é um inteiro N com a quantidade jogos do galo. Para cada jogo você deve ler 2 inteiros, o primeiro com a quantidade de gols do galo e o segundo com a quantidade de gols do time oponente. \n",
    "\n",
    "Saída: <br>\n",
    "Apresente a soma de vitórias, empates e derrotas do galo, junto com o cálculo da pontuação total.\n",
    "\n",
    "Ex:\n",
    "```\n",
    "Entrada:\n",
    "4\n",
    "2\n",
    "0\n",
    "1\n",
    "1\n",
    "0\n",
    "3\n",
    "1\n",
    "0\n",
    "\n",
    "Saída:\n",
    "Vitórias: 2\n",
    "Empates: 1\n",
    "Derrotas: 1\n",
    "Pontuação: 7\n",
    "\n",
    "```\n",
    "\n",
    "\n"
   ]
  },
  {
   "cell_type": "code",
   "execution_count": 4,
   "id": "d3fdfc2a",
   "metadata": {},
   "outputs": [],
   "source": [
    "## Escreva e execute seu código aqui\n",
    "numero_jogos = int(input(\"Digite o numero jogos:\"))\n",
    "soma_vitoria, soma_empates, soma_derrotas = 0, 0, 0\n",
    "\n",
    "for jogo in range(numero_jogos):\n",
    "    gols_galo = int(input(\"Digite o numero de gols do Galo no jogo {jogo}:\"))\n",
    "    gols_oponente = int(input(\"Digite o numero de gols do oponente no jogo {jogo}:\"))\n",
    "if gols_galo > gols_oponente:\n",
    "    soma_vitoria +=1\n",
    "elif gols_galo < gols_oponente:\n",
    "    soma_derrotas +=1\n",
    "else:\n",
    "    soma_empates +=1 \n",
    "\n",
    "    print(\"Total de vitórias:\", soma_vitoria)\n",
    "    print(\"Total de empates:\", soma_empates)\n",
    "    print(\"Total de derrotas:\", soma_derrotas)\n",
    "    print(\"Pontuação:\", 3*soma_vitoria+soma_empates )"
   ]
  },
  {
   "cell_type": "markdown",
   "id": "fc98604d",
   "metadata": {},
   "source": [
    "### Q5.\n",
    "\n",
    "Faça um programa que lê dois inteiros N e M, e imprime na tela um campo de batalha naval. O tabuleiro deve possuir N linhas e M colunas. A primeira linha é composta por um espaço em branco e o cabeçalho das colunas, ou seja, valores de 1 a M. As N linhas seguintes iniciam com o cabeçalho da linha, ou seja, seu número, seguido de M caracteres \"/\" (barra) indicando uma possível posição jogável. \n",
    "\n",
    "```\n",
    "Entrada:\n",
    "5\n",
    "4\n",
    "\n",
    "Saída:\n",
    "  1 2 3 4 \n",
    "1 / / / / \n",
    "2 / / / / \n",
    "3 / / / / \n",
    "4 / / / / \n",
    "5 / / / / \n",
    "```\n",
    "\n",
    "Para esse exercício, precisamos lembrar que o comando print implicitamente adiciona uma quebra de linha ao final da impressão. Podemos interferir no final da impressão adicionando mais uma entrada ao print. No exemplo, finalizamos cada linha com um espaço em branco:\n",
    "```python\n",
    "print(\"Texto qualquer\", end = \" \")\n",
    "```"
   ]
  },
  {
   "cell_type": "code",
   "execution_count": 12,
   "id": "a60ef197",
   "metadata": {},
   "outputs": [
    {
     "name": "stdout",
     "output_type": "stream",
     "text": [
      " 1 2 3 4\n",
      "1 / / / /\n",
      "2 / / / /\n",
      "3 / / / /\n",
      "4 / / / /\n",
      "5 / / / /\n"
     ]
    }
   ],
   "source": [
    "## Escreva e execute seu código aqui\n",
    "# Lê os inteiros N e M\n",
    "N = int(input(\"Digite o valor de N:\"))\n",
    "M = int(input(\"Digite o valor de M:\"))\n",
    "\n",
    "# Imprime o cabeçalho das colunas\n",
    "print(\" \" + \" \".join(str(i) for i in range(1, M + 1)))\n",
    "\n",
    "# Imprime as linhas do campo de batalha\n",
    "for i in range(1, N + 1):\n",
    "    # Imprime o cabeçalho da linha seguido pelos caracteres \"/\"\n",
    "    print(f\"{i} \" + \" \".join(\"/\" for _ in range(M)))"
   ]
  },
  {
   "cell_type": "markdown",
   "id": "4654dc0b",
   "metadata": {},
   "source": [
    "---\n",
    "## Break e Continue"
   ]
  },
  {
   "cell_type": "markdown",
   "id": "24fe9d85",
   "metadata": {},
   "source": [
    "### Q6.\n",
    "\n",
    "Escreva um programa que lê uma quantidade indefinida de valores e informa o maior e o menor valor digitados. A leitura é encerrada quando o usuário digitar o valor 0 (zero).\n",
    "\n",
    "```\n",
    "Entrada:\n",
    "12\n",
    "-1\n",
    "29\n",
    "11\n",
    "-5\n",
    "0\n",
    "\n",
    "Saída:\n",
    "Maior: 29\n",
    "Menor: -5\n",
    "```"
   ]
  },
  {
   "cell_type": "code",
   "execution_count": 17,
   "id": "ee1c466a",
   "metadata": {},
   "outputs": [
    {
     "name": "stdout",
     "output_type": "stream",
     "text": [
      "0\n",
      "O maior valor é 5\n",
      "O menor valor é 1\n"
     ]
    }
   ],
   "source": [
    "## Escreva e execute seu código aqui\n",
    "\n",
    "maior = float('-inf')\n",
    "menor = float('inf')\n",
    "\n",
    "while True:\n",
    "    numero = int(input(\"Digite um numero:\"))\n",
    "    if numero == 0: break\n",
    "\n",
    "    if numero > maior:\n",
    "        maior = numero\n",
    "\n",
    "    if numero < menor:\n",
    "           menor = numero\n",
    "\n",
    "print(numero)\n",
    "print(f\"O maior valor é {maior}\")\n",
    "print(f\"O menor valor é {menor}\")"
   ]
  },
  {
   "cell_type": "markdown",
   "id": "30d486f7",
   "metadata": {},
   "source": [
    "### Q7.\n",
    "\n",
    "Escreva um programa que lê uma quantidade indefinida de valores e informa o **produto** dos valores positivos digitados. A leitura é encerrada quando o usuário digitar o valor 0 (zero).\n",
    "\n",
    "```\n",
    "Entrada:\n",
    "2\n",
    "-1\n",
    "1\n",
    "3\n",
    "-5\n",
    "0\n",
    "\n",
    "Saída:\n",
    "Produto: 6\n",
    "```"
   ]
  },
  {
   "cell_type": "code",
   "execution_count": 18,
   "id": "2f1ac324",
   "metadata": {},
   "outputs": [
    {
     "name": "stdout",
     "output_type": "stream",
     "text": [
      "0\n",
      "O produto dos positivos: 6\n"
     ]
    }
   ],
   "source": [
    "## Escreva e execute seu código aqui\n",
    "produto = 1\n",
    "\n",
    "while True:\n",
    "    numero = int(input(\"Digite um numero:\"))\n",
    "    if numero == 0: break\n",
    "    if numero < 0: continue\n",
    "\n",
    "    produto = produto * numero\n",
    "\n",
    "print(numero)\n",
    "print(f\"O produto dos positivos: {produto}\")\n"
   ]
  },
  {
   "cell_type": "markdown",
   "id": "e932f3cf",
   "metadata": {},
   "source": [
    "### Q8.\n",
    "\n",
    "Vamos fazer uma calculadora que aceita expressões aritméticas de qualquer tamanho até que o usuário digite a palavra \"Fim\". Sua calculadora executa apenas as operações \"+\", \"-\".\n",
    "\n",
    "```\n",
    "Entrada:\n",
    "5\n",
    "+\n",
    "8\n",
    "-\n",
    "3\n",
    "+\n",
    "2\n",
    "Fim\n",
    "\n",
    "Saída:\n",
    "12\n",
    "```"
   ]
  },
  {
   "cell_type": "code",
   "execution_count": 24,
   "id": "e835d870",
   "metadata": {},
   "outputs": [
    {
     "name": "stdout",
     "output_type": "stream",
     "text": [
      "['4', '-', '2']\n",
      "fim\n",
      "2\n"
     ]
    }
   ],
   "source": [
    "## Escreva e execute seu código aqui\n",
    "# Lista para armazenar as operações e números\n",
    "operações = []\n",
    "\n",
    "# Lê a entrada até \"fim\" ser digitado\n",
    "while True:\n",
    "    entrada = input()\n",
    "    if entrada == \"fim\":\n",
    "        break\n",
    "    operações.append(entrada)\n",
    "\n",
    "# Inicializa o resultado com o primeiro número\n",
    "resultado = int(operações[0])\n",
    "\n",
    "# Processa as operações restantes\n",
    "i = 1\n",
    "while i < len(operações):\n",
    "    operacao = operações[i]\n",
    "    numero = int(operações[i + 1])\n",
    "    \n",
    "    if operacao == \"+\":\n",
    "        resultado += numero\n",
    "    elif operacao == \"-\":\n",
    "        resultado -= numero\n",
    "    \n",
    "    i += 2  # Avança para o próximo par de operação e número\n",
    "\n",
    "# Exibe o resultado final\n",
    "print(operações)\n",
    "print(entrada)\n",
    "print(resultado)"
   ]
  }
 ],
 "metadata": {
  "kernelspec": {
   "display_name": "Python 3 (ipykernel)",
   "language": "python",
   "name": "python3"
  },
  "language_info": {
   "codemirror_mode": {
    "name": "ipython",
    "version": 3
   },
   "file_extension": ".py",
   "mimetype": "text/x-python",
   "name": "python",
   "nbconvert_exporter": "python",
   "pygments_lexer": "ipython3",
   "version": "3.11.7"
  }
 },
 "nbformat": 4,
 "nbformat_minor": 5
}
