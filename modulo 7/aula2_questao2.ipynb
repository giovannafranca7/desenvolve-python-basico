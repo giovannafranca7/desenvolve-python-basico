{
 "cells": [
  {
   "cell_type": "code",
   "execution_count": 1,
   "metadata": {},
   "outputs": [
    {
     "name": "stdout",
     "output_type": "stream",
     "text": [
      "Frase modificada: ** *m* *lg**m\n"
     ]
    }
   ],
   "source": [
    "def substituir_vogais(frase):\n",
    "    vogais = \"aeiouAEIOU\"\n",
    "    nova_frase = \"\"\n",
    "    \n",
    "    for letra in frase:\n",
    "        if letra in vogais:\n",
    "            nova_frase += \"*\"\n",
    "        else:\n",
    "            nova_frase += letra\n",
    "            \n",
    "    return nova_frase\n",
    "\n",
    "# Solicitar a frase ao usuário\n",
    "frase_usuario = input(\"Digite uma frase: \")\n",
    "\n",
    "# Chamar a função e imprimir a frase modificada\n",
    "frase_modificada = substituir_vogais(frase_usuario)\n",
    "print(f\"Frase modificada: {frase_modificada}\")"
   ]
  }
 ],
 "metadata": {
  "kernelspec": {
   "display_name": "base",
   "language": "python",
   "name": "python3"
  },
  "language_info": {
   "codemirror_mode": {
    "name": "ipython",
    "version": 3
   },
   "file_extension": ".py",
   "mimetype": "text/x-python",
   "name": "python",
   "nbconvert_exporter": "python",
   "pygments_lexer": "ipython3",
   "version": "3.11.7"
  }
 },
 "nbformat": 4,
 "nbformat_minor": 2
}
