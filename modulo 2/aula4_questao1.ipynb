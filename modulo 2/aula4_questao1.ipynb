{
 "cells": [
  {
   "cell_type": "code",
   "execution_count": 1,
   "metadata": {},
   "outputs": [
    {
     "name": "stdout",
     "output_type": "stream",
     "text": [
      "O terreno possui 80m2 e custa R$960.00\n"
     ]
    }
   ],
   "source": [
    "#leitura de dados (entrada)\n",
    "comprimento = int(input(\"Digite o comprimento: \")) #comprimento do terreno \n",
    "largura     = int(input(\"digite a largura: \")) #largura do terreno \n",
    "preco_m2    = float(input(\"valor do m2: \")) #preco por m2 da regiao\n",
    "\n",
    "#processamento\n",
    "area        = comprimento * largura  #m2 \n",
    "preco_total = area * preco_m2  #preco total do terreno \n",
    "\n",
    "#impressao de dados (saida) \n",
    "print(f\"O terreno possui {area}m2 e custa R${preco_total:,.2f}\")"
   ]
  }
 ],
 "metadata": {
  "kernelspec": {
   "display_name": "base",
   "language": "python",
   "name": "python3"
  },
  "language_info": {
   "codemirror_mode": {
    "name": "ipython",
    "version": 3
   },
   "file_extension": ".py",
   "mimetype": "text/x-python",
   "name": "python",
   "nbconvert_exporter": "python",
   "pygments_lexer": "ipython3",
   "version": "3.11.7"
  }
 },
 "nbformat": 4,
 "nbformat_minor": 2
}
