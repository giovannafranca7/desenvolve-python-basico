{
 "cells": [
  {
   "cell_type": "code",
   "execution_count": 2,
   "metadata": {},
   "outputs": [
    {
     "name": "stdout",
     "output_type": "stream",
     "text": [
      "Inválido\n"
     ]
    }
   ],
   "source": [
    "def calcular_digitos_verificadores(cpf):\n",
    "   \n",
    "    numeros = [int(d) for d in cpf[:9]]\n",
    "    \n",
    "    \n",
    "    multiplicadores_1 = list(range(10, 1, -1))\n",
    "    soma_1 = sum(n * m for n, m in zip(numeros, multiplicadores_1))\n",
    "    resto_1 = soma_1 % 11\n",
    "    digito_1 = 0 if resto_1 < 2 else 11 - resto_1\n",
    "\n",
    "    \n",
    "    numeros.append(digito_1)  \n",
    "    multiplicadores_2 = list(range(11, 1, -1))\n",
    "    soma_2 = sum(n * m for n, m in zip(numeros, multiplicadores_2))\n",
    "    resto_2 = soma_2 % 11\n",
    "    digito_2 = 0 if resto_2 < 2 else 11 - resto_2\n",
    "\n",
    "    return str(digito_1), str(digito_2)\n",
    "\n",
    "def validar_cpf(cpf):\n",
    "    cpf = cpf.replace('.', '').replace('-', '')\n",
    "    \n",
    "    if len(cpf) != 11 or not cpf.isdigit():\n",
    "        return False\n",
    "    \n",
    "    digito_1, digito_2 = calcular_digitos_verificadores(cpf)\n",
    "    \n",
    "    return cpf[-2:] == digito_1 + digito_2\n",
    "\n",
    "cpf_input = input(\"Digite um CPF (XXX.XXX.XXX-XX): \")\n",
    "\n",
    "if validar_cpf(cpf_input):\n",
    "    print(\"Válido\")\n",
    "else:\n",
    "    print(\"Inválido\")"
   ]
  }
 ],
 "metadata": {
  "kernelspec": {
   "display_name": "base",
   "language": "python",
   "name": "python3"
  },
  "language_info": {
   "codemirror_mode": {
    "name": "ipython",
    "version": 3
   },
   "file_extension": ".py",
   "mimetype": "text/x-python",
   "name": "python",
   "nbconvert_exporter": "python",
   "pygments_lexer": "ipython3",
   "version": "3.11.7"
  }
 },
 "nbformat": 4,
 "nbformat_minor": 2
}
