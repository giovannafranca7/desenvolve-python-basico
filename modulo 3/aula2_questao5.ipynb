{
 "cells": [
  {
   "cell_type": "code",
   "execution_count": 6,
   "metadata": {},
   "outputs": [
    {
     "name": "stdout",
     "output_type": "stream",
     "text": [
      "masculino 70 30\n",
      "True\n"
     ]
    }
   ],
   "source": [
    "#entrada de dados \n",
    "#genero, idade e tempo de serviço \n",
    "genero = input(\"Digite seu gênero:\")\n",
    "idade = int(input(\"Digite sua idade:\"))\n",
    "tempo = int(input(\"digite seu tempo de trabalho:\"))\n",
    "\n",
    "#processamento \n",
    "#A: Para mulheres, ter mais de 60 anos. Para homens, 65.\n",
    "#B: Ou ter trabalhado pelo menos 30 anos\n",
    "#C: Ou ter 60 anos  e trabalhado pelo menos 25.\n",
    "a = (genero == 'feminino' and idade >= 60) or (genero == 'masculino' and idade >= 65)\n",
    "b = tempo > 30\n",
    "c = idade >= 60 and tempo >= 25\n",
    "pode_aposentar = a or b or c \n",
    "\n",
    "#saida\n",
    "print(genero, idade, tempo)\n",
    "print(pode_aposentar)\n",
    "\n"
   ]
  }
 ],
 "metadata": {
  "kernelspec": {
   "display_name": "base",
   "language": "python",
   "name": "python3"
  },
  "language_info": {
   "codemirror_mode": {
    "name": "ipython",
    "version": 3
   },
   "file_extension": ".py",
   "mimetype": "text/x-python",
   "name": "python",
   "nbconvert_exporter": "python",
   "pygments_lexer": "ipython3",
   "version": "3.11.7"
  }
 },
 "nbformat": 4,
 "nbformat_minor": 2
}
