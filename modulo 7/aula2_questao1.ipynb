{
 "cells": [
  {
   "cell_type": "code",
   "execution_count": 1,
   "metadata": {},
   "outputs": [
    {
     "name": "stdout",
     "output_type": "stream",
     "text": [
      "Você nasceu em 26 de Agosto de 2008.\n"
     ]
    }
   ],
   "source": [
    "def formatar_data(data):\n",
    "    \n",
    "    meses = [\n",
    "        \"Janeiro\", \"Fevereiro\", \"Março\", \"Abril\", \"Maio\", \"Junho\",\n",
    "        \"Julho\", \"Agosto\", \"Setembro\", \"Outubro\", \"Novembro\", \"Dezembro\"\n",
    "    ]\n",
    "    \n",
    "    dia, mes, ano = map(int, data.split('/'))\n",
    "    \n",
    "    nome_mes = meses[mes - 1]\n",
    "    \n",
    "    return f\"{dia} de {nome_mes} de {ano}\"\n",
    "\n",
    "data_nascimento = input(\"Digite uma data de nascimento (dd/mm/aaaa): \")\n",
    "\n",
    "data_formatada = formatar_data(data_nascimento)\n",
    "print(f\"Você nasceu em {data_formatada}.\")"
   ]
  }
 ],
 "metadata": {
  "kernelspec": {
   "display_name": "base",
   "language": "python",
   "name": "python3"
  },
  "language_info": {
   "codemirror_mode": {
    "name": "ipython",
    "version": 3
   },
   "file_extension": ".py",
   "mimetype": "text/x-python",
   "name": "python",
   "nbconvert_exporter": "python",
   "pygments_lexer": "ipython3",
   "version": "3.11.7"
  }
 },
 "nbformat": 4,
 "nbformat_minor": 2
}
