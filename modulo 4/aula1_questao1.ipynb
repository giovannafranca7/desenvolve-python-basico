{
 "cells": [
  {
   "cell_type": "code",
   "execution_count": 7,
   "metadata": {},
   "outputs": [
    {
     "name": "stdout",
     "output_type": "stream",
     "text": [
      "6\n",
      "maior que 5\n"
     ]
    }
   ],
   "source": [
    "x = int(input(\"Digite o valor de x:\"))\n",
    "print(x)\n",
    "if x >= 5:\n",
    "      print(\"maior que 5\")\n",
    "else:\n",
    "      print(\"Fim\")"
   ]
  }
 ],
 "metadata": {
  "language_info": {
   "name": "python"
  }
 },
 "nbformat": 4,
 "nbformat_minor": 2
}
