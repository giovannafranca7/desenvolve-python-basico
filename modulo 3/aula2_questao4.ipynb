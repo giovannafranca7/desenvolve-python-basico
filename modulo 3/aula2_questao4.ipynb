{
 "cells": [
  {
   "cell_type": "code",
   "execution_count": 1,
   "metadata": {},
   "outputs": [],
   "source": [
    "#entrada de dados \n",
    "#classe do personagem (guerreiro, mago ou arqueiro)\n",
    "#pontos de força do personagem  (de 1 a 20)\n",
    "#pontos de magia do personagem  (de 1 a 20)\n",
    "classe_personagem = input(\"Escolha a classe (guerreiro, mago ou arqueiro): \").strip().lower()\n",
    "pontos_forca = int(input(\"Digite os pontos de força (de 1 a 20):\"))\n",
    "pontos_magia = int(input(\"Digite os pontos de magia (de 1 a 20):\"))\n",
    "\n",
    "#processamento \n",
    "def validar_ficha(classe, forca, magia):\n",
    "    if classe == \"guerreiro\":\n",
    "        return forca >= 15 and magia <= 10\n",
    "    elif classe == \"mago\":\n",
    "        return forca <= 10 and magia >= 15\n",
    "    elif classe == \"arqueiro\":\n",
    "        return 5 < forca <= 15 and 5 < magia <= 15\n",
    "    else:\n",
    "        return False\n",
    "    \n",
    "    \n",
    "    # Verifica se a ficha está consistente com a classe escolhida\n",
    "    consistente = validar_ficha(classe, forca, magia)\n",
    "\n",
    "    #saida\n",
    "    print(consistente)\n"
   ]
  }
 ],
 "metadata": {
  "kernelspec": {
   "display_name": "base",
   "language": "python",
   "name": "python3"
  },
  "language_info": {
   "codemirror_mode": {
    "name": "ipython",
    "version": 3
   },
   "file_extension": ".py",
   "mimetype": "text/x-python",
   "name": "python",
   "nbconvert_exporter": "python",
   "pygments_lexer": "ipython3",
   "version": "3.11.7"
  }
 },
 "nbformat": 4,
 "nbformat_minor": 2
}
