{
 "cells": [
  {
   "cell_type": "code",
   "execution_count": 17,
   "metadata": {},
   "outputs": [
    {
     "name": "stdout",
     "output_type": "stream",
     "text": [
      "False\n"
     ]
    }
   ],
   "source": [
    "#entrada de dados \n",
    "#idade do usuario\n",
    "#se já jogou 3 jogos \n",
    "#quantos jogos venceu \n",
    "idade_usuario = int(input(\"Digite sua idade:\"))\n",
    "jogou_pelo_menos_3_jogos = input(\"Já jogou pelo menos 3 jogos de tabuleiro? (True/False) \").strip().capitalize()\n",
    "jogos_ganhos = int(input(\"Digite quantos jogos já venceu:\"))\n",
    "\n",
    "#processamento \n",
    "#true se o usuario tiver entre 16 e 18 anos\n",
    "#true se o usuario já tiver jogado pelo menos 3 jogos\n",
    "#true se o usuario já ter vencido pelo menos 1 jogo\n",
    "#false em qualquer outro caso \n",
    "admissao = (16 <= idade_usuario <= 18 and jogou_pelo_menos_3_jogos == 'True' and jogos_ganhos >= 1)\n",
    "#saida \n",
    "print(admissao)"
   ]
  }
 ],
 "metadata": {
  "kernelspec": {
   "display_name": "base",
   "language": "python",
   "name": "python3"
  },
  "language_info": {
   "codemirror_mode": {
    "name": "ipython",
    "version": 3
   },
   "file_extension": ".py",
   "mimetype": "text/x-python",
   "name": "python",
   "nbconvert_exporter": "python",
   "pygments_lexer": "ipython3",
   "version": "3.11.7"
  }
 },
 "nbformat": 4,
 "nbformat_minor": 2
}
