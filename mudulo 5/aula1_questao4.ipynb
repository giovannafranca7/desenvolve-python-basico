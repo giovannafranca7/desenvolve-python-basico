{
 "cells": [
  {
   "cell_type": "code",
   "execution_count": 1,
   "metadata": {},
   "outputs": [
    {
     "name": "stdout",
     "output_type": "stream",
     "text": [
      "Data: 19/09/2024\n",
      "Hora: 05:25\n"
     ]
    }
   ],
   "source": [
    "from datetime import datetime\n",
    "\n",
    "# Definindo a data e hora específicas\n",
    "data_hora = datetime(2024, 9, 19, 5, 25)\n",
    "\n",
    "# Formatando a saída\n",
    "data_formatada = data_hora.strftime(\"%d/%m/%Y\")\n",
    "hora_formatada = data_hora.strftime(\"%H:%M\")\n",
    "\n",
    "# Exibindo a data e hora\n",
    "print(f\"Data: {data_formatada}\")\n",
    "print(f\"Hora: {hora_formatada}\")"
   ]
  }
 ],
 "metadata": {
  "kernelspec": {
   "display_name": "base",
   "language": "python",
   "name": "python3"
  },
  "language_info": {
   "codemirror_mode": {
    "name": "ipython",
    "version": 3
   },
   "file_extension": ".py",
   "mimetype": "text/x-python",
   "name": "python",
   "nbconvert_exporter": "python",
   "pygments_lexer": "ipython3",
   "version": "3.11.7"
  }
 },
 "nbformat": 4,
 "nbformat_minor": 2
}
