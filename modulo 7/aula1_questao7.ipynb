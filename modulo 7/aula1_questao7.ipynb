{
 "cells": [
  {
   "cell_type": "code",
   "execution_count": 1,
   "metadata": {},
   "outputs": [
    {
     "name": "stdout",
     "output_type": "stream",
     "text": [
      "amor\n",
      "mora\n",
      "roma\n",
      "ramo\n"
     ]
    }
   ],
   "source": [
    "frase = \" O meu amor mora em Roma e me deu um ramo de flores\"\n",
    "objetivo = sorted(\"amor\")\n",
    "\n",
    "lst_palavras = frase.lower().split(\" \")\n",
    "for palavra in lst_palavras:\n",
    "    if sorted(palavra) == objetivo:\n",
    "        print(palavra)"
   ]
  }
 ],
 "metadata": {
  "kernelspec": {
   "display_name": "base",
   "language": "python",
   "name": "python3"
  },
  "language_info": {
   "codemirror_mode": {
    "name": "ipython",
    "version": 3
   },
   "file_extension": ".py",
   "mimetype": "text/x-python",
   "name": "python",
   "nbconvert_exporter": "python",
   "pygments_lexer": "ipython3",
   "version": "3.11.7"
  }
 },
 "nbformat": 4,
 "nbformat_minor": 2
}
