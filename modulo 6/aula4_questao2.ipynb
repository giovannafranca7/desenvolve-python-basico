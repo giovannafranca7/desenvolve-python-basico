{
 "cells": [
  {
   "cell_type": "code",
   "execution_count": 2,
   "metadata": {},
   "outputs": [
    {
     "name": "stdout",
     "output_type": "stream",
     "text": [
      "Vogais: ['a', 'e', 'e', 'o', 'o', 'u']\n",
      "Consoantes: ['m', 'm', 'n', 'y']\n"
     ]
    }
   ],
   "source": [
    "\n",
    "frase = input(\"Digite uma frase: \")\n",
    "\n",
    "vogais_set = set('aeiouAEIOU')\n",
    "\n",
    "vogais = sorted([letra for letra in frase if letra in vogais_set])\n",
    "\n",
    "consoantes = [letra for letra in frase if letra.isalpha() and letra not in vogais_set]\n",
    "\n",
    "print(\"Vogais:\", vogais)\n",
    "print(\"Consoantes:\", consoantes)"
   ]
  }
 ],
 "metadata": {
  "kernelspec": {
   "display_name": "base",
   "language": "python",
   "name": "python3"
  },
  "language_info": {
   "codemirror_mode": {
    "name": "ipython",
    "version": 3
   },
   "file_extension": ".py",
   "mimetype": "text/x-python",
   "name": "python",
   "nbconvert_exporter": "python",
   "pygments_lexer": "ipython3",
   "version": "3.11.7"
  }
 },
 "nbformat": 4,
 "nbformat_minor": 2
}
