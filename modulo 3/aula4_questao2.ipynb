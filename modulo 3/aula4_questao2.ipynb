{
 "cells": [
  {
   "cell_type": "code",
   "execution_count": 1,
   "metadata": {},
   "outputs": [
    {
     "name": "stdout",
     "output_type": "stream",
     "text": [
      "Muito Bom!\n"
     ]
    }
   ],
   "source": [
    "avaliacao = int(input(\"Insira a avaliação do filme (de 1 a 5): \"))\n",
    "\n",
    "mensagens = {\n",
    "    5: \"Excelente!\",\n",
    "    4: \"Muito Bom!\",\n",
    "    3: \"Bom!\",\n",
    "    2: \"Regular.\",\n",
    "    1: \"Ruim.\"\n",
    "}\n",
    "\n",
    "print(mensagens.get(avaliacao, \"Avaliação inválida. Por favor, insira um número entre 1 e 5.\"))"
   ]
  }
 ],
 "metadata": {
  "kernelspec": {
   "display_name": "base",
   "language": "python",
   "name": "python3"
  },
  "language_info": {
   "codemirror_mode": {
    "name": "ipython",
    "version": 3
   },
   "file_extension": ".py",
   "mimetype": "text/x-python",
   "name": "python",
   "nbconvert_exporter": "python",
   "pygments_lexer": "ipython3",
   "version": "3.11.7"
  }
 },
 "nbformat": 4,
 "nbformat_minor": 2
}
