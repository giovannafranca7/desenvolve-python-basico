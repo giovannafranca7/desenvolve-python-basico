{
 "cells": [
  {
   "cell_type": "code",
   "execution_count": 3,
   "metadata": {},
   "outputs": [
    {
     "name": "stdout",
     "output_type": "stream",
     "text": [
      "\"ame o poema\" é palíndromo\n"
     ]
    }
   ],
   "source": [
    "import string\n",
    "\n",
    "def verificar_palindromo(frase):\n",
    "    # Remover espaços e pontuação, e transformar para minúsculas\n",
    "    frase_limpa = ''.join(char.lower() for char in frase if char.isalnum())\n",
    "    return frase_limpa == frase_limpa[::-1]\n",
    "\n",
    "while True:\n",
    "    frase_usuario = input('Digite uma frase (digite \"fim\" para encerrar): ')\n",
    "    \n",
    "    if frase_usuario.lower() == \"fim\":\n",
    "        break\n",
    "    \n",
    "    if verificar_palindromo(frase_usuario):\n",
    "        print(f'\"{frase_usuario}\" é palíndromo')\n",
    "    else:\n",
    "        print(f'\"{frase_usuario}\" não é palíndromo')"
   ]
  }
 ],
 "metadata": {
  "kernelspec": {
   "display_name": "base",
   "language": "python",
   "name": "python3"
  },
  "language_info": {
   "codemirror_mode": {
    "name": "ipython",
    "version": 3
   },
   "file_extension": ".py",
   "mimetype": "text/x-python",
   "name": "python",
   "nbconvert_exporter": "python",
   "pygments_lexer": "ipython3",
   "version": "3.11.7"
  }
 },
 "nbformat": 4,
 "nbformat_minor": 2
}
