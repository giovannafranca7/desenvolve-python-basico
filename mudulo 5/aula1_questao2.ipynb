{
 "cells": [
  {
   "cell_type": "code",
   "execution_count": 2,
   "metadata": {},
   "outputs": [
    {
     "name": "stdout",
     "output_type": "stream",
     "text": [
      "18\n",
      "18\n",
      "A raiz quadrada da soma é 4.24\n",
      "70\n",
      "88\n",
      "A raiz quadrada da soma é 9.38\n"
     ]
    }
   ],
   "source": [
    "import random\n",
    "import math\n",
    "\n",
    "quantidade_valores = int(input(\"Digite a quantidade de valores: \"))\n",
    "soma = 0\n",
    "for i in range (quantidade_valores):\n",
    " valor = random.randint(0, 100)\n",
    " print(valor)\n",
    " soma += valor\n",
    "\n",
    " print(soma)\n",
    " print(f\"A raiz quadrada da soma é {math.sqrt(soma):.2f}\")"
   ]
  }
 ],
 "metadata": {
  "kernelspec": {
   "display_name": "base",
   "language": "python",
   "name": "python3"
  },
  "language_info": {
   "codemirror_mode": {
    "name": "ipython",
    "version": 3
   },
   "file_extension": ".py",
   "mimetype": "text/x-python",
   "name": "python",
   "nbconvert_exporter": "python",
   "pygments_lexer": "ipython3",
   "version": "3.11.7"
  }
 },
 "nbformat": 4,
 "nbformat_minor": 2
}
