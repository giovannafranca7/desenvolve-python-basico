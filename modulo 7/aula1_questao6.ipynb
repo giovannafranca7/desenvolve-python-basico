{
 "cells": [
  {
   "cell_type": "code",
   "execution_count": 3,
   "metadata": {},
   "outputs": [
    {
     "name": "stdout",
     "output_type": "stream",
     "text": [
      "Anagramas: []\n"
     ]
    }
   ],
   "source": [
    "def encontra_anagramas(frase, palavra_objetivo):\n",
    "    # Remove espaços e transforma em minúsculas\n",
    "    frase = frase.replace(' ', '').lower()\n",
    "    palavra_objetivo = palavra_objetivo.lower()\n",
    "    \n",
    "    # Cria um dicionário de contagem de caracteres para a palavra objetivo\n",
    "    from collections import Counter\n",
    "    contagem_objetivo = Counter(palavra_objetivo)\n",
    "    \n",
    "    # Lista para armazenar os anagramas encontrados\n",
    "    anagramas = []\n",
    "    \n",
    "    # Separa a frase em palavras\n",
    "    palavras = frase.split()\n",
    "    \n",
    "    for palavra in palavras:\n",
    "        # Verifica se a contagem de caracteres da palavra é igual à da palavra objetivo\n",
    "        if Counter(palavra) == contagem_objetivo:\n",
    "            anagramas.append(palavra)\n",
    "    \n",
    "    return anagramas\n",
    "\n",
    "# Solicita ao usuário que digite uma frase\n",
    "frase = input(\"Digite uma frase: \")\n",
    "\n",
    "# Solicita a palavra objetivo\n",
    "palavra_objetivo = input(\"Digite a palavra objetivo: \")\n",
    "\n",
    "# Encontra os anagramas\n",
    "resultado = encontra_anagramas(frase, palavra_objetivo)\n",
    "\n",
    "# Exibe os anagramas encontrados\n",
    "print(\"Anagramas:\", resultado)"
   ]
  }
 ],
 "metadata": {
  "kernelspec": {
   "display_name": "base",
   "language": "python",
   "name": "python3"
  },
  "language_info": {
   "codemirror_mode": {
    "name": "ipython",
    "version": 3
   },
   "file_extension": ".py",
   "mimetype": "text/x-python",
   "name": "python",
   "nbconvert_exporter": "python",
   "pygments_lexer": "ipython3",
   "version": "3.11.7"
  }
 },
 "nbformat": 4,
 "nbformat_minor": 2
}
