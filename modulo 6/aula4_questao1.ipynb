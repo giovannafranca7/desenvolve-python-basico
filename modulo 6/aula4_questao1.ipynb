{
 "cells": [
  {
   "cell_type": "code",
   "execution_count": 1,
   "metadata": {},
   "outputs": [
    {
     "name": "stdout",
     "output_type": "stream",
     "text": [
      "Números pares entre 20 e 50: [20, 22, 24, 26, 28, 30, 32, 34, 36, 38, 40, 42, 44, 46, 48, 50]\n",
      "Quadrados dos valores de 1 a 9: [1, 4, 9, 16, 25, 36, 49, 64, 81]\n",
      "Números entre 1 e 100 divisíveis por 7: [7, 14, 21, 28, 35, 42, 49, 56, 63, 70, 77, 84, 91, 98]\n",
      "Paridade dos números de 0 a 30 (passo 3): ['par', 'impar', 'par', 'impar', 'par', 'impar', 'par', 'impar', 'par', 'impar']\n"
     ]
    }
   ],
   "source": [
    "\n",
    "pares_20_50 = [x for x in range(20, 51) if x % 2 == 0]\n",
    "\n",
    "quadrados = [x**2 for x in range(1, 10)]\n",
    "\n",
    "divisiveis_por_7 = [x for x in range(1, 101) if x % 7 == 0]\n",
    "\n",
    "paridade = ['par' if x % 2 == 0 else 'impar' for x in range(0, 30, 3)]\n",
    "\n",
    "print(\"Números pares entre 20 e 50:\", pares_20_50)\n",
    "print(\"Quadrados dos valores de 1 a 9:\", quadrados)\n",
    "print(\"Números entre 1 e 100 divisíveis por 7:\", divisiveis_por_7)\n",
    "print(\"Paridade dos números de 0 a 30 (passo 3):\", paridade)"
   ]
  }
 ],
 "metadata": {
  "kernelspec": {
   "display_name": "base",
   "language": "python",
   "name": "python3"
  },
  "language_info": {
   "codemirror_mode": {
    "name": "ipython",
    "version": 3
   },
   "file_extension": ".py",
   "mimetype": "text/x-python",
   "name": "python",
   "nbconvert_exporter": "python",
   "pygments_lexer": "ipython3",
   "version": "3.11.7"
  }
 },
 "nbformat": 4,
 "nbformat_minor": 2
}
