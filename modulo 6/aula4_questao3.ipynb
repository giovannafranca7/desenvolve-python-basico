{
 "cells": [
  {
   "cell_type": "code",
   "execution_count": 2,
   "metadata": {},
   "outputs": [
    {
     "name": "stdout",
     "output_type": "stream",
     "text": [
      "[800, 740, 925, 800, 800, 1000]\n"
     ]
    }
   ],
   "source": [
    "horas_trabalhadas = [40, 37, 45, 40, 40, 48]\n",
    "ganho_por_hora = 20\n",
    "hora_extra = 25\n",
    "pagamentos = [ganho_por_hora * min(hora, 40) + \n",
    "              hora_extra * max(0, hora-40)\n",
    "               for hora in horas_trabalhadas]\n",
    "\n",
    "print(pagamentos)"
   ]
  }
 ],
 "metadata": {
  "kernelspec": {
   "display_name": "base",
   "language": "python",
   "name": "python3"
  },
  "language_info": {
   "codemirror_mode": {
    "name": "ipython",
    "version": 3
   },
   "file_extension": ".py",
   "mimetype": "text/x-python",
   "name": "python",
   "nbconvert_exporter": "python",
   "pygments_lexer": "ipython3",
   "version": "3.11.7"
  }
 },
 "nbformat": 4,
 "nbformat_minor": 2
}
