{
 "cells": [
  {
   "cell_type": "code",
   "execution_count": 1,
   "metadata": {},
   "outputs": [
    {
     "ename": "FileNotFoundError",
     "evalue": "[Errno 2] No such file or directory: 'gabarito_forca.txt'",
     "output_type": "error",
     "traceback": [
      "\u001b[1;31m---------------------------------------------------------------------------\u001b[0m",
      "\u001b[1;31mFileNotFoundError\u001b[0m                         Traceback (most recent call last)",
      "Cell \u001b[1;32mIn[1], line 51\u001b[0m\n\u001b[0;32m     48\u001b[0m         \u001b[38;5;28mprint\u001b[39m(\u001b[38;5;124m\"\u001b[39m\u001b[38;5;124mVocê perdeu! A palavra era:\u001b[39m\u001b[38;5;124m\"\u001b[39m, palavra)\n\u001b[0;32m     50\u001b[0m \u001b[38;5;66;03m# Inicia o jogo\u001b[39;00m\n\u001b[1;32m---> 51\u001b[0m jogo()\n",
      "Cell \u001b[1;32mIn[1], line 17\u001b[0m, in \u001b[0;36mjogo\u001b[1;34m()\u001b[0m\n\u001b[0;32m     16\u001b[0m \u001b[38;5;28;01mdef\u001b[39;00m \u001b[38;5;21mjogo\u001b[39m():\n\u001b[1;32m---> 17\u001b[0m     palavra \u001b[38;5;241m=\u001b[39m carrega_palavras()\n\u001b[0;32m     18\u001b[0m     letras_adivinhadas \u001b[38;5;241m=\u001b[39m []\n\u001b[0;32m     19\u001b[0m     tentativas \u001b[38;5;241m=\u001b[39m \u001b[38;5;241m0\u001b[39m\n",
      "Cell \u001b[1;32mIn[1], line 4\u001b[0m, in \u001b[0;36mcarrega_palavras\u001b[1;34m()\u001b[0m\n\u001b[0;32m      3\u001b[0m \u001b[38;5;28;01mdef\u001b[39;00m \u001b[38;5;21mcarrega_palavras\u001b[39m():\n\u001b[1;32m----> 4\u001b[0m     \u001b[38;5;28;01mwith\u001b[39;00m \u001b[38;5;28mopen\u001b[39m(\u001b[38;5;124m\"\u001b[39m\u001b[38;5;124mgabarito_forca.txt\u001b[39m\u001b[38;5;124m\"\u001b[39m, \u001b[38;5;124m\"\u001b[39m\u001b[38;5;124mr\u001b[39m\u001b[38;5;124m\"\u001b[39m) \u001b[38;5;28;01mas\u001b[39;00m arquivo:\n\u001b[0;32m      5\u001b[0m         palavras \u001b[38;5;241m=\u001b[39m arquivo\u001b[38;5;241m.\u001b[39mread()\u001b[38;5;241m.\u001b[39msplitlines()\n\u001b[0;32m      6\u001b[0m     \u001b[38;5;28;01mreturn\u001b[39;00m random\u001b[38;5;241m.\u001b[39mchoice(palavras)\n",
      "File \u001b[1;32mc:\\ProgramData\\anaconda3\\Lib\\site-packages\\IPython\\core\\interactiveshell.py:310\u001b[0m, in \u001b[0;36m_modified_open\u001b[1;34m(file, *args, **kwargs)\u001b[0m\n\u001b[0;32m    303\u001b[0m \u001b[38;5;28;01mif\u001b[39;00m file \u001b[38;5;129;01min\u001b[39;00m {\u001b[38;5;241m0\u001b[39m, \u001b[38;5;241m1\u001b[39m, \u001b[38;5;241m2\u001b[39m}:\n\u001b[0;32m    304\u001b[0m     \u001b[38;5;28;01mraise\u001b[39;00m \u001b[38;5;167;01mValueError\u001b[39;00m(\n\u001b[0;32m    305\u001b[0m         \u001b[38;5;124mf\u001b[39m\u001b[38;5;124m\"\u001b[39m\u001b[38;5;124mIPython won\u001b[39m\u001b[38;5;124m'\u001b[39m\u001b[38;5;124mt let you open fd=\u001b[39m\u001b[38;5;132;01m{\u001b[39;00mfile\u001b[38;5;132;01m}\u001b[39;00m\u001b[38;5;124m by default \u001b[39m\u001b[38;5;124m\"\u001b[39m\n\u001b[0;32m    306\u001b[0m         \u001b[38;5;124m\"\u001b[39m\u001b[38;5;124mas it is likely to crash IPython. If you know what you are doing, \u001b[39m\u001b[38;5;124m\"\u001b[39m\n\u001b[0;32m    307\u001b[0m         \u001b[38;5;124m\"\u001b[39m\u001b[38;5;124myou can use builtins\u001b[39m\u001b[38;5;124m'\u001b[39m\u001b[38;5;124m open.\u001b[39m\u001b[38;5;124m\"\u001b[39m\n\u001b[0;32m    308\u001b[0m     )\n\u001b[1;32m--> 310\u001b[0m \u001b[38;5;28;01mreturn\u001b[39;00m io_open(file, \u001b[38;5;241m*\u001b[39margs, \u001b[38;5;241m*\u001b[39m\u001b[38;5;241m*\u001b[39mkwargs)\n",
      "\u001b[1;31mFileNotFoundError\u001b[0m: [Errno 2] No such file or directory: 'gabarito_forca.txt'"
     ]
    }
   ],
   "source": [
    "import random\n",
    "\n",
    "def carrega_palavras():\n",
    "    with open(\"gabarito_forca.txt\", \"r\") as arquivo:\n",
    "        palavras = arquivo.read().splitlines()\n",
    "    return random.choice(palavras)\n",
    "\n",
    "def carrega_enforcado():\n",
    "    with open(\"gabarito_enforcado.txt\", \"r\") as arquivo:\n",
    "        return arquivo.read().splitlines()\n",
    "\n",
    "def imprime_enforcado(tentativas):\n",
    "    estagios = carrega_enforcado()\n",
    "    print(estagios[tentativas])\n",
    "\n",
    "def jogo():\n",
    "    palavra = carrega_palavras()\n",
    "    letras_adivinhadas = []\n",
    "    tentativas = 0\n",
    "    max_tentativas = 6\n",
    "\n",
    "    print(\"Bem-vindo ao jogo da Forca!\")\n",
    "    print(\"_ \" * len(palavra))\n",
    "\n",
    "    while tentativas < max_tentativas:\n",
    "        letra = input(\"\\nDigite uma letra: \").lower()\n",
    "\n",
    "        if letra in letras_adivinhadas:\n",
    "            print(\"Você já adivinhou essa letra. Tente outra.\")\n",
    "            continue\n",
    "\n",
    "        letras_adivinhadas.append(letra)\n",
    "\n",
    "        if letra in palavra:\n",
    "            print(\"Você acertou uma letra!\")\n",
    "        else:\n",
    "            tentativas += 1\n",
    "            imprime_enforcado(tentativas)\n",
    "            print(\"Letra errada!\")\n",
    "        \n",
    "        progresso = [letra if letra in letras_adivinhadas else '_' for letra in palavra]\n",
    "        print(\" \".join(progresso))\n",
    "\n",
    "        if '_' not in progresso:\n",
    "            print(\"Parabéns! Você adivinhou a palavra:\", palavra)\n",
    "            break\n",
    "    else:\n",
    "        print(\"Você perdeu! A palavra era:\", palavra)\n",
    "\n",
    "# Inicia o jogo\n",
    "jogo()"
   ]
  }
 ],
 "metadata": {
  "kernelspec": {
   "display_name": "base",
   "language": "python",
   "name": "python3"
  },
  "language_info": {
   "codemirror_mode": {
    "name": "ipython",
    "version": 3
   },
   "file_extension": ".py",
   "mimetype": "text/x-python",
   "name": "python",
   "nbconvert_exporter": "python",
   "pygments_lexer": "ipython3",
   "version": "3.11.7"
  }
 },
 "nbformat": 4,
 "nbformat_minor": 2
}
