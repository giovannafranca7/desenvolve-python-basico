{
 "cells": [
  {
   "cell_type": "code",
   "execution_count": 1,
   "metadata": {},
   "outputs": [
    {
     "name": "stdout",
     "output_type": "stream",
     "text": [
      "500.0\n",
      "505.0\n",
      "510.05\n",
      "515.1505\n",
      "<class 'float'>\n"
     ]
    }
   ],
   "source": [
    "juros = 1.01\n",
    "saldo = 500.0\n",
    "print(saldo)\n",
    "saldo = saldo * juros # 505 rendimento1\n",
    "print(saldo)\n",
    "saldo = saldo * juros # 510 rendimento2\n",
    "print(saldo)\n",
    "saldo = saldo * juros # 515 rendimento3\n",
    "print(saldo)\n",
    "\n",
    "print(type(saldo))"
   ]
  }
 ],
 "metadata": {
  "kernelspec": {
   "display_name": "base",
   "language": "python",
   "name": "python3"
  },
  "language_info": {
   "codemirror_mode": {
    "name": "ipython",
    "version": 3
   },
   "file_extension": ".py",
   "mimetype": "text/x-python",
   "name": "python",
   "nbconvert_exporter": "python",
   "pygments_lexer": "ipython3",
   "version": "3.11.7"
  }
 },
 "nbformat": 4,
 "nbformat_minor": 2
}
