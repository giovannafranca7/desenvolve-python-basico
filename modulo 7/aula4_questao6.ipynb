{
 "cells": [
  {
   "cell_type": "code",
   "execution_count": 3,
   "metadata": {},
   "outputs": [
    {
     "ename": "ValueError",
     "evalue": "invalid literal for int() with base 10: 'BPM110KeyAModeMajorDanceability53Valence75Energy69Acousticness7Instrumentalness0Liveness17Speechiness3'",
     "output_type": "error",
     "traceback": [
      "\u001b[1;31m---------------------------------------------------------------------------\u001b[0m",
      "\u001b[1;31mValueError\u001b[0m                                Traceback (most recent call last)",
      "Cell \u001b[1;32mIn[3], line 22\u001b[0m\n\u001b[0;32m     20\u001b[0m artist_name \u001b[38;5;241m=\u001b[39m linha[\u001b[38;5;241m1\u001b[39m]\n\u001b[0;32m     21\u001b[0m released_year \u001b[38;5;241m=\u001b[39m \u001b[38;5;28mint\u001b[39m(linha[\u001b[38;5;241m3\u001b[39m])\n\u001b[1;32m---> 22\u001b[0m streams \u001b[38;5;241m=\u001b[39m \u001b[38;5;28mint\u001b[39m(linha[\u001b[38;5;241m8\u001b[39m])\n\u001b[0;32m     24\u001b[0m \u001b[38;5;66;03m# Ignora linhas com aspas\u001b[39;00m\n\u001b[0;32m     25\u001b[0m \u001b[38;5;28;01mif\u001b[39;00m \u001b[38;5;124m'\u001b[39m\u001b[38;5;124m\"\u001b[39m\u001b[38;5;124m'\u001b[39m \u001b[38;5;129;01min\u001b[39;00m artist_name \u001b[38;5;129;01mor\u001b[39;00m \u001b[38;5;124m'\u001b[39m\u001b[38;5;124m\"\u001b[39m\u001b[38;5;124m'\u001b[39m \u001b[38;5;129;01min\u001b[39;00m track_name:\n",
      "\u001b[1;31mValueError\u001b[0m: invalid literal for int() with base 10: 'BPM110KeyAModeMajorDanceability53Valence75Energy69Acousticness7Instrumentalness0Liveness17Speechiness3'"
     ]
    }
   ],
   "source": [
    "import csv\n",
    "from collections import defaultdict\n",
    "\n",
    "# Abre o arquivo para leitura\n",
    "with open('spotify-2023.csv', 'r', encoding='latin-1') as arquivo:\n",
    "    leitor = csv.reader(arquivo)\n",
    "    \n",
    "    # Ignora o cabeçalho\n",
    "    next(leitor)\n",
    "\n",
    "    # Dicionário para armazenar a música mais tocada de cada ano\n",
    "    musicas_por_ano = defaultdict(lambda: ['', '', 0])  # [track_name, artist(s)_name, streams]\n",
    "\n",
    "    for linha in leitor:\n",
    "        # Verifica se a linha é válida\n",
    "        if len(linha) < 10:\n",
    "            continue\n",
    "        \n",
    "        track_name = linha[0]\n",
    "        artist_name = linha[1]\n",
    "        released_year = int(linha[3])\n",
    "        streams = int(linha[8])\n",
    "\n",
    "        # Ignora linhas com aspas\n",
    "        if '\"' in artist_name or '\"' in track_name:\n",
    "            continue\n",
    "        \n",
    "        # Considera apenas os anos de 2012 a 2022\n",
    "        if 2012 <= released_year <= 2022:\n",
    "            # Atualiza a música mais tocada do ano\n",
    "            if streams > musicas_por_ano[released_year][2]:\n",
    "                musicas_por_ano[released_year] = [track_name, artist_name, streams]\n",
    "\n",
    "# Cria a lista final\n",
    "resultado = [[musicas_por_ano[ano][0], musicas_por_ano[ano][1], ano, musicas_por_ano[ano][2]] \n",
    "             for ano in range(2012, 2023) if ano in musicas_por_ano]\n",
    "\n",
    "# Imprime a lista produzida\n",
    "print(resultado)"
   ]
  }
 ],
 "metadata": {
  "kernelspec": {
   "display_name": "base",
   "language": "python",
   "name": "python3"
  },
  "language_info": {
   "codemirror_mode": {
    "name": "ipython",
    "version": 3
   },
   "file_extension": ".py",
   "mimetype": "text/x-python",
   "name": "python",
   "nbconvert_exporter": "python",
   "pygments_lexer": "ipython3",
   "version": "3.11.7"
  }
 },
 "nbformat": 4,
 "nbformat_minor": 2
}
