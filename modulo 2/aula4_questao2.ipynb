{
 "cells": [
  {
   "cell_type": "code",
   "execution_count": 1,
   "metadata": {},
   "outputs": [
    {
     "name": "stdout",
     "output_type": "stream",
     "text": [
      "87 graus fahrenheit sao 30 graus celsius.\n"
     ]
    }
   ],
   "source": [
    "#leitura de dados (entrada)\n",
    "fahrenheit = int(input(\"Digite a temperatura em F: \"))\n",
    "\n",
    "#processamento\n",
    "celsius = (fahrenheit - 32) * 5 / 9\n",
    "\n",
    "#impressao de dados (saida)\n",
    "print(f\"{fahrenheit} graus fahrenheit sao {int(celsius)} graus celsius.\")"
   ]
  }
 ],
 "metadata": {
  "kernelspec": {
   "display_name": "base",
   "language": "python",
   "name": "python3"
  },
  "language_info": {
   "codemirror_mode": {
    "name": "ipython",
    "version": 3
   },
   "file_extension": ".py",
   "mimetype": "text/x-python",
   "name": "python",
   "nbconvert_exporter": "python",
   "pygments_lexer": "ipython3",
   "version": "3.11.7"
  }
 },
 "nbformat": 4,
 "nbformat_minor": 2
}
