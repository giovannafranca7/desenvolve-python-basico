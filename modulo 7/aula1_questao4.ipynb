{
 "cells": [
  {
   "cell_type": "code",
   "execution_count": 1,
   "metadata": {},
   "outputs": [
    {
     "name": "stdout",
     "output_type": "stream",
     "text": [
      "Número completo: 99131-9213\n"
     ]
    }
   ],
   "source": [
    "numero = input(\"Digite o número: \")\n",
    "\n",
    "if len(numero) == 8:\n",
    "\n",
    "    numero_completo = '9' + numero\n",
    "elif len(numero) == 9:\n",
    "    \n",
    "    if numero[0] != '9':\n",
    "        print(\"Número inválido. Um número com 9 dígitos deve começar com 9.\")\n",
    "        exit()\n",
    "    numero_completo = numero\n",
    "else:\n",
    "    print(\"Número inválido. O número deve ter 8 ou 9 dígitos.\")\n",
    "    exit()\n",
    "\n",
    "numero_formatado = f\"{numero_completo[:5]}-{numero_completo[5:]}\"\n",
    "print(f\"Número completo: {numero_formatado}\")"
   ]
  }
 ],
 "metadata": {
  "kernelspec": {
   "display_name": "base",
   "language": "python",
   "name": "python3"
  },
  "language_info": {
   "codemirror_mode": {
    "name": "ipython",
    "version": 3
   },
   "file_extension": ".py",
   "mimetype": "text/x-python",
   "name": "python",
   "nbconvert_exporter": "python",
   "pygments_lexer": "ipython3",
   "version": "3.11.7"
  }
 },
 "nbformat": 4,
 "nbformat_minor": 2
}
