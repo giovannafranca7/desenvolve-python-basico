{
 "cells": [
  {
   "cell_type": "code",
   "execution_count": 3,
   "metadata": {},
   "outputs": [
    {
     "name": "stdout",
     "output_type": "stream",
     "text": [
      "Muito baixo, tente novamente!\n",
      "Correto! O número é 6.\n"
     ]
    }
   ],
   "source": [
    "import random\n",
    "\n",
    "# Gera um número aleatório entre 1 e 10\n",
    "numero_secreto = random.randint(1, 10)\n",
    "\n",
    "# Inicializa a variável de palpite\n",
    "palpite = None\n",
    "\n",
    "# Laço que continua até o usuário adivinhar corretamente\n",
    "while palpite != numero_secreto:\n",
    "    # Pede ao usuário para adivinhar o número\n",
    "    palpite = int(input(\"Adivinhe o número entre 1 e 10: \"))\n",
    "    \n",
    "    # Fornece feedback sobre o palpite\n",
    "    if palpite < numero_secreto:\n",
    "        print(\"Muito baixo, tente novamente!\")\n",
    "    elif palpite > numero_secreto:\n",
    "        print(\"Muito alto, tente novamente!\")\n",
    "    else:\n",
    "        print(f\"Correto! O número é {numero_secreto}.\")"
   ]
  }
 ],
 "metadata": {
  "kernelspec": {
   "display_name": "base",
   "language": "python",
   "name": "python3"
  },
  "language_info": {
   "codemirror_mode": {
    "name": "ipython",
    "version": 3
   },
   "file_extension": ".py",
   "mimetype": "text/x-python",
   "name": "python",
   "nbconvert_exporter": "python",
   "pygments_lexer": "ipython3",
   "version": "3.11.7"
  }
 },
 "nbformat": 4,
 "nbformat_minor": 2
}
