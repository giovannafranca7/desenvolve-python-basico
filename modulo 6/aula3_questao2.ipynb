{
 "cells": [
  {
   "cell_type": "code",
   "execution_count": 1,
   "metadata": {},
   "outputs": [
    {
     "name": "stdout",
     "output_type": "stream",
     "text": [
      "dominios: ['google', 'gmail', 'github', 'reddit', 'yahoo']\n"
     ]
    }
   ],
   "source": [
    "# Lista de URLs\n",
    "urls = [\"www.google.com\", \"www.gmail.com\", \"www.github.com\", \"www.reddit.com\", \"www.yahoo.com\"]\n",
    "\n",
    "# Usando fatiamento para extrair os domínios\n",
    "dominios = [url[4:-4] for url in urls]  # Remove \"www.\" do início e \".com\" do fim\n",
    "\n",
    "# Exibe a lista de domínios\n",
    "print(\"dominios:\", dominios)"
   ]
  }
 ],
 "metadata": {
  "kernelspec": {
   "display_name": "base",
   "language": "python",
   "name": "python3"
  },
  "language_info": {
   "codemirror_mode": {
    "name": "ipython",
    "version": 3
   },
   "file_extension": ".py",
   "mimetype": "text/x-python",
   "name": "python",
   "nbconvert_exporter": "python",
   "pygments_lexer": "ipython3",
   "version": "3.11.7"
  }
 },
 "nbformat": 4,
 "nbformat_minor": 2
}
