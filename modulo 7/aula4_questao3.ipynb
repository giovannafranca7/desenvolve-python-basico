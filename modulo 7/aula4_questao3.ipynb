{
 "cells": [
  {
   "cell_type": "code",
   "execution_count": 5,
   "metadata": {},
   "outputs": [
    {
     "ename": "UnicodeDecodeError",
     "evalue": "'utf-8' codec can't decode byte 0xf4 in position 16: invalid continuation byte",
     "output_type": "error",
     "traceback": [
      "\u001b[1;31m---------------------------------------------------------------------------\u001b[0m",
      "\u001b[1;31mUnicodeDecodeError\u001b[0m                        Traceback (most recent call last)",
      "Cell \u001b[1;32mIn[5], line 5\u001b[0m\n\u001b[0;32m      3\u001b[0m \u001b[38;5;66;03m# Lê o arquivo \"estomago.txt\"\u001b[39;00m\n\u001b[0;32m      4\u001b[0m \u001b[38;5;28;01mwith\u001b[39;00m \u001b[38;5;28mopen\u001b[39m(\u001b[38;5;124m\"\u001b[39m\u001b[38;5;124mestomago.txt\u001b[39m\u001b[38;5;124m\"\u001b[39m, \u001b[38;5;124m'\u001b[39m\u001b[38;5;124mr\u001b[39m\u001b[38;5;124m'\u001b[39m, encoding\u001b[38;5;241m=\u001b[39m\u001b[38;5;124m'\u001b[39m\u001b[38;5;124mutf-8\u001b[39m\u001b[38;5;124m'\u001b[39m) \u001b[38;5;28;01mas\u001b[39;00m arquivo:\n\u001b[1;32m----> 5\u001b[0m     linhas \u001b[38;5;241m=\u001b[39m arquivo\u001b[38;5;241m.\u001b[39mreadlines()\n\u001b[0;32m      7\u001b[0m \u001b[38;5;66;03m# Imprime o texto das primeiras 25 linhas\u001b[39;00m\n\u001b[0;32m      8\u001b[0m \u001b[38;5;28mprint\u001b[39m(\u001b[38;5;124m\"\u001b[39m\u001b[38;5;124mPrimeiras 25 linhas do arquivo:\u001b[39m\u001b[38;5;124m\"\u001b[39m)\n",
      "File \u001b[1;32m<frozen codecs>:322\u001b[0m, in \u001b[0;36mdecode\u001b[1;34m(self, input, final)\u001b[0m\n",
      "\u001b[1;31mUnicodeDecodeError\u001b[0m: 'utf-8' codec can't decode byte 0xf4 in position 16: invalid continuation byte"
     ]
    }
   ],
   "source": [
    "import re\n",
    "\n",
    "# Lê o arquivo \"estomago.txt\"\n",
    "with open(\"estomago.txt\", 'r', encoding='utf-8') as arquivo:\n",
    "    linhas = arquivo.readlines()\n",
    "\n",
    "# Imprime o texto das primeiras 25 linhas\n",
    "print(\"Primeiras 25 linhas do arquivo:\")\n",
    "for linha in linhas[:25]:\n",
    "    print(linha.strip())\n",
    "\n",
    "# Número total de linhas do arquivo\n",
    "numero_linhas = len(linhas)\n",
    "print(f\"\\nNúmero total de linhas: {numero_linhas}\")\n",
    "\n",
    "# Linha com o maior número de caracteres\n",
    "linha_maior = max(linhas, key=len)\n",
    "print(f\"\\nLinha com maior número de caracteres: {linha_maior.strip()}\")\n",
    "\n",
    "# Contagem de menções aos nomes \"Nonato\" e \"Íria\"\n",
    "nonato_count = sum(1 for linha in linhas if re.search(r'\\bNonato\\b', linha, re.IGNORECASE))\n",
    "iria_count = sum(1 for linha in linhas if re.search(r'\\bÍria\\b', linha, re.IGNORECASE))\n",
    "total_mencoes = nonato_count + iria_count\n",
    "\n",
    "print(f\"\\nNúmero de menções a 'Nonato': {nonato_count}\")\n",
    "print(f\"Número de menções a 'Íria': {iria_count}\")\n",
    "print(f\"Número total de menções: {total_mencoes}\")"
   ]
  }
 ],
 "metadata": {
  "kernelspec": {
   "display_name": "base",
   "language": "python",
   "name": "python3"
  },
  "language_info": {
   "codemirror_mode": {
    "name": "ipython",
    "version": 3
   },
   "file_extension": ".py",
   "mimetype": "text/x-python",
   "name": "python",
   "nbconvert_exporter": "python",
   "pygments_lexer": "ipython3",
   "version": "3.11.7"
  }
 },
 "nbformat": 4,
 "nbformat_minor": 2
}
