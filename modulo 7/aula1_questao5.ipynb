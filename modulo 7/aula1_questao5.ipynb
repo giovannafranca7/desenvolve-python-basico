{
 "cells": [
  {
   "cell_type": "code",
   "execution_count": 7,
   "metadata": {},
   "outputs": [
    {
     "name": "stdout",
     "output_type": "stream",
     "text": [
      "1\n",
      "[0]\n",
      "2\n",
      "[0, 3]\n",
      "3\n",
      "[0, 3, 4]\n",
      "4\n",
      "[0, 3, 4, 6]\n",
      "5\n",
      "[0, 3, 4, 6, 8]\n",
      "6\n",
      "[0, 3, 4, 6, 8, 12]\n",
      "7\n",
      "[0, 3, 4, 6, 8, 12, 14]\n",
      "8\n",
      "[0, 3, 4, 6, 8, 12, 14, 16]\n",
      "9\n",
      "[0, 3, 4, 6, 8, 12, 14, 16, 20]\n",
      "10\n",
      "[0, 3, 4, 6, 8, 12, 14, 16, 20, 22]\n",
      "11\n",
      "[0, 3, 4, 6, 8, 12, 14, 16, 20, 22, 24]\n",
      "12\n",
      "[0, 3, 4, 6, 8, 12, 14, 16, 20, 22, 24, 27]\n",
      "13\n",
      "[0, 3, 4, 6, 8, 12, 14, 16, 20, 22, 24, 27, 30]\n",
      "14\n",
      "[0, 3, 4, 6, 8, 12, 14, 16, 20, 22, 24, 27, 30, 31]\n",
      "15\n",
      "[0, 3, 4, 6, 8, 12, 14, 16, 20, 22, 24, 27, 30, 31, 33]\n",
      "16\n",
      "[0, 3, 4, 6, 8, 12, 14, 16, 20, 22, 24, 27, 30, 31, 33, 37]\n",
      "17\n",
      "[0, 3, 4, 6, 8, 12, 14, 16, 20, 22, 24, 27, 30, 31, 33, 37, 39]\n",
      "18\n",
      "[0, 3, 4, 6, 8, 12, 14, 16, 20, 22, 24, 27, 30, 31, 33, 37, 39, 42]\n",
      "19\n",
      "[0, 3, 4, 6, 8, 12, 14, 16, 20, 22, 24, 27, 30, 31, 33, 37, 39, 42, 46]\n",
      "20\n",
      "[0, 3, 4, 6, 8, 12, 14, 16, 20, 22, 24, 27, 30, 31, 33, 37, 39, 42, 46, 48]\n"
     ]
    }
   ],
   "source": [
    "frase =  \"O meu amor mora em Roma e me deu um ramo de flores\"\n",
    "\n",
    "count_vogais = 0\n",
    "indices = []\n",
    "for i in range(len(frase)):\n",
    "  if frase [i].lower() in \"aeiou\":\n",
    "   count_vogais += 1\n",
    "   indices.append(i)\n",
    "   print(count_vogais)\n",
    "   print(indices)"
   ]
  }
 ],
 "metadata": {
  "kernelspec": {
   "display_name": "base",
   "language": "python",
   "name": "python3"
  },
  "language_info": {
   "codemirror_mode": {
    "name": "ipython",
    "version": 3
   },
   "file_extension": ".py",
   "mimetype": "text/x-python",
   "name": "python",
   "nbconvert_exporter": "python",
   "pygments_lexer": "ipython3",
   "version": "3.11.7"
  }
 },
 "nbformat": 4,
 "nbformat_minor": 2
}
