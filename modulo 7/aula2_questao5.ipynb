{
 "cells": [
  {
   "cell_type": "code",
   "execution_count": 2,
   "metadata": {},
   "outputs": [
    {
     "name": "stdout",
     "output_type": "stream",
     "text": [
      "eu amo aulegm\n"
     ]
    }
   ],
   "source": [
    "import random\n",
    "\n",
    "def embaralhar_palavras(frase):\n",
    "    # Função para embaralhar as letras internas de uma palavra\n",
    "    def embaralhar_palavra(palavra):\n",
    "        if len(palavra) <= 3:\n",
    "            return palavra  # Não embaralha palavras pequenas\n",
    "\n",
    "        # Mantém a primeira e a última letra\n",
    "        primeira_letra = palavra[0]\n",
    "        ultima_letra = palavra[-1]\n",
    "        letras_intermediarias = list(palavra[1:-1])\n",
    "        \n",
    "        # Embaralha as letras internas\n",
    "        random.shuffle(letras_intermediarias)\n",
    "\n",
    "        # Retorna a nova palavra\n",
    "        return primeira_letra + ''.join(letras_intermediarias) + ultima_letra\n",
    "\n",
    "    # Divide a frase em palavras e embaralha cada uma\n",
    "    palavras = frase.split()\n",
    "    palavras_embaralhadas = [embaralhar_palavra(palavra) for palavra in palavras]\n",
    "\n",
    "    # Junta as palavras de volta em uma frase\n",
    "    return ' '.join(palavras_embaralhadas)\n",
    "\n",
    "# Exemplo de uso:\n",
    "frase = input(\"Digite uma frase:\")\n",
    "resultado = embaralhar_palavras(frase)\n",
    "print(resultado)"
   ]
  }
 ],
 "metadata": {
  "kernelspec": {
   "display_name": "base",
   "language": "python",
   "name": "python3"
  },
  "language_info": {
   "codemirror_mode": {
    "name": "ipython",
    "version": 3
   },
   "file_extension": ".py",
   "mimetype": "text/x-python",
   "name": "python",
   "nbconvert_exporter": "python",
   "pygments_lexer": "ipython3",
   "version": "3.11.7"
  }
 },
 "nbformat": 4,
 "nbformat_minor": 2
}
