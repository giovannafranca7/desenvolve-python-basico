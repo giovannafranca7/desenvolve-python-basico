{
 "cells": [
  {
   "cell_type": "code",
   "execution_count": 1,
   "metadata": {},
   "outputs": [
    {
     "name": "stdout",
     "output_type": "stream",
     "text": [
      "Arquivo 'meus_livros.csv' criado com sucesso!\n"
     ]
    }
   ],
   "source": [
    "# Dados dos livros\n",
    "livros = [\n",
    "    (\"O Senhor dos Anéis\", \"J.R.R. Tolkien\", 1954, 1216),\n",
    "    (\"1984\", \"George Orwell\", 1949, 328),\n",
    "    (\"Dom Casmurro\", \"Machado de Assis\", 1899, 256),\n",
    "    (\"A Revolução dos Bichos\", \"George Orwell\", 1945, 112),\n",
    "    (\"Harry Potter e a Pedra Filosofal\", \"J.K. Rowling\", 1997, 223),\n",
    "    (\"O Pequeno Príncipe\", \"Antoine de Saint-Exupéry\", 1943, 96),\n",
    "    (\"Orgulho e Preconceito\", \"Jane Austen\", 1813, 432),\n",
    "    (\"A Culpa é das Estrelas\", \"John Green\", 2012, 313),\n",
    "    (\"Cem Anos de Solidão\", \"Gabriel García Márquez\", 1967, 417),\n",
    "    (\"O Alquimista\", \"Paulo Coelho\", 1988, 208)\n",
    "]\n",
    "\n",
    "# Criação do arquivo CSV\n",
    "with open(\"meus_livros.csv\", 'w', encoding='utf-8') as arquivo:\n",
    "    # Escreve os títulos\n",
    "    arquivo.write(\"Título,Autor,Ano de publicação,Número de páginas\\n\")\n",
    "    \n",
    "    # Escreve as informações dos livros\n",
    "    for livro in livros:\n",
    "        arquivo.write(f\"{livro[0]},{livro[1]},{livro[2]},{livro[3]}\\n\")\n",
    "\n",
    "print(\"Arquivo 'meus_livros.csv' criado com sucesso!\")"
   ]
  }
 ],
 "metadata": {
  "kernelspec": {
   "display_name": "base",
   "language": "python",
   "name": "python3"
  },
  "language_info": {
   "codemirror_mode": {
    "name": "ipython",
    "version": 3
   },
   "file_extension": ".py",
   "mimetype": "text/x-python",
   "name": "python",
   "nbconvert_exporter": "python",
   "pygments_lexer": "ipython3",
   "version": "3.11.7"
  }
 },
 "nbformat": 4,
 "nbformat_minor": 2
}
