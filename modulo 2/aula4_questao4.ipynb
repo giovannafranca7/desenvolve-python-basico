{
 "cells": [
  {
   "cell_type": "code",
   "execution_count": 1,
   "metadata": {},
   "outputs": [
    {
     "name": "stdout",
     "output_type": "stream",
     "text": [
      "5 nota(s) de 100\n",
      "1 nota(s) de 50\n",
      "1 nota(s) de 20\n",
      "0 nota(s) de 10\n",
      "1 nota(s) de 5\n",
      "0 nota(s) de 2\n",
      "1 nota(s) de 1\n"
     ]
    }
   ],
   "source": [
    "#leitura de dados (entrada)\n",
    "valor = int(input(\"Digite o valor: \"))\n",
    "\n",
    "#processamento\n",
    "#comecar da maior nota (quantas notas?)\n",
    "notas_100 = valor // 100 #576 // 100 = 5 \n",
    "#atualizar quanto falta depois da maior nota\n",
    "valor = valor % 100 \n",
    "\n",
    "notas_50 = valor // 50 #76 // 50 = 1 \n",
    "valor = valor % 50 #valor - 50 * notas_50 = 26\n",
    "\n",
    "notas_20 = valor // 20 #76 // 20 = 1 \n",
    "valor = valor % 20 # 6\n",
    "\n",
    "notas_10 = valor // 10 #6 // 10 = 0\n",
    "valor = valor % 10 # 6\n",
    "\n",
    "notas_5 = valor // 5 #6 // 5 = 1 \n",
    "valor = valor % 5 # 1\n",
    "\n",
    "notas_2 = valor // 2 #1 // 2 = 0\n",
    "valor = valor % 2  # 1 \n",
    "\n",
    "notas_1 = valor \n",
    "\n",
    "#impressao de dados (saida)\n",
    "print(f\"{notas_100} nota(s) de 100\")\n",
    "print(f\"{notas_50} nota(s) de 50\")\n",
    "print(f\"{notas_20} nota(s) de 20\")\n",
    "print(f\"{notas_10} nota(s) de 10\")\n",
    "print(f\"{notas_5} nota(s) de 5\")\n",
    "print(f\"{notas_2} nota(s) de 2\")\n",
    "print(f\"{notas_1} nota(s) de 1\")"
   ]
  }
 ],
 "metadata": {
  "kernelspec": {
   "display_name": "base",
   "language": "python",
   "name": "python3"
  },
  "language_info": {
   "codemirror_mode": {
    "name": "ipython",
    "version": 3
   },
   "file_extension": ".py",
   "mimetype": "text/x-python",
   "name": "python",
   "nbconvert_exporter": "python",
   "pygments_lexer": "ipython3",
   "version": "3.11.7"
  }
 },
 "nbformat": 4,
 "nbformat_minor": 2
}
