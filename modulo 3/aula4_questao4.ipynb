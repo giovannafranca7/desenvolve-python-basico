{
 "cells": [
  {
   "cell_type": "code",
   "execution_count": 1,
   "metadata": {},
   "outputs": [
    {
     "name": "stdout",
     "output_type": "stream",
     "text": [
      "O valor do frete é: R$2.00\n"
     ]
    }
   ],
   "source": [
    "distancia = float(input(\"Digite a distância da entrega em quilômetros: \"))\n",
    "peso = float(input(\"Digite o peso do pacote em quilogramas: \"))\n",
    "\n",
    "if distancia <= 100:\n",
    "    valor_por_kg = 1.00\n",
    "elif distancia <= 300:\n",
    "    valor_por_kg = 1.50\n",
    "else:\n",
    "    valor_por_kg = 2.00\n",
    "\n",
    "valor_frete = valor_por_kg * peso\n",
    "\n",
    "if peso > 10:\n",
    "    valor_frete += 10\n",
    "\n",
    "print(f\"O valor do frete é: R${valor_frete:.2f}\")"
   ]
  }
 ],
 "metadata": {
  "kernelspec": {
   "display_name": "base",
   "language": "python",
   "name": "python3"
  },
  "language_info": {
   "codemirror_mode": {
    "name": "ipython",
    "version": 3
   },
   "file_extension": ".py",
   "mimetype": "text/x-python",
   "name": "python",
   "nbconvert_exporter": "python",
   "pygments_lexer": "ipython3",
   "version": "3.11.7"
  }
 },
 "nbformat": 4,
 "nbformat_minor": 2
}
