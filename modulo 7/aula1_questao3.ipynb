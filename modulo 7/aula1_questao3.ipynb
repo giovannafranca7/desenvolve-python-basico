{
 "cells": [
  {
   "cell_type": "code",
   "execution_count": 1,
   "metadata": {},
   "outputs": [
    {
     "name": "stdout",
     "output_type": "stream",
     "text": [
      "Espaços em branco: 3\n"
     ]
    }
   ],
   "source": [
    "frase = input(\"Digite a frase: \")\n",
    "\n",
    "espacos = frase.count(' ')\n",
    "\n",
    "print(f\"Espaços em branco: {espacos}\")"
   ]
  }
 ],
 "metadata": {
  "kernelspec": {
   "display_name": "base",
   "language": "python",
   "name": "python3"
  },
  "language_info": {
   "codemirror_mode": {
    "name": "ipython",
    "version": 3
   },
   "file_extension": ".py",
   "mimetype": "text/x-python",
   "name": "python",
   "nbconvert_exporter": "python",
   "pygments_lexer": "ipython3",
   "version": "3.11.7"
  }
 },
 "nbformat": 4,
 "nbformat_minor": 2
}
