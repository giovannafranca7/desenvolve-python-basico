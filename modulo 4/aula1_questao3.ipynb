{
 "cells": [
  {
   "cell_type": "code",
   "execution_count": 7,
   "metadata": {},
   "outputs": [
    {
     "name": "stdout",
     "output_type": "stream",
     "text": [
      "Aprovado\n",
      "Fim\n"
     ]
    }
   ],
   "source": [
    "n1 = int(input(\"Digite o valor de n1:\"))\n",
    "n2 = int(input(\"Digite o valor de n2:\"))\n",
    "n3 = int(input(\"Digite o valor de n3:\"))\n",
    "m = (n1 + n2 + n3)/3\n",
    "if m>=60:\n",
    "    print(\"Aprovado\")\n",
    "    print(\"Fim\")\n",
    "elif m>=40:\n",
    "    print(\"Recuperação\")\n",
    "    print(\"Fim\")\n",
    "else:\n",
    "    print(\"Reprovado\")\n",
    "    print(\"Fim\")\n",
    "\n"
   ]
  }
 ],
 "metadata": {
  "kernelspec": {
   "display_name": "base",
   "language": "python",
   "name": "python3"
  },
  "language_info": {
   "codemirror_mode": {
    "name": "ipython",
    "version": 3
   },
   "file_extension": ".py",
   "mimetype": "text/x-python",
   "name": "python",
   "nbconvert_exporter": "python",
   "pygments_lexer": "ipython3",
   "version": "3.11.7"
  }
 },
 "nbformat": 4,
 "nbformat_minor": 2
}
