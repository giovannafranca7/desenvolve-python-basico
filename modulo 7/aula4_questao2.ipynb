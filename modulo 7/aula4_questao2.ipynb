{
 "cells": [
  {
   "cell_type": "code",
   "execution_count": 2,
   "metadata": {},
   "outputs": [
    {
     "name": "stdout",
     "output_type": "stream",
     "text": [
      "i\n",
      "love\n",
      "money\n",
      "and\n",
      "family\n",
      "\n"
     ]
    }
   ],
   "source": [
    " import re\n",
    "\n",
    "# Lê o conteúdo do arquivo \"frase.txt\"\n",
    "with open(\"frase.txt\", 'r') as arquivo:\n",
    "    conteudo = arquivo.read()\n",
    "\n",
    "# Remove espaços em branco e caracteres não alfabéticos\n",
    "palavras = re.findall(r'\\b\\w+\\b', conteudo)\n",
    "\n",
    "# Salva as palavras no novo arquivo \"palavras.txt\"\n",
    "with open(\"palavras.txt\", 'w') as arquivo_palavras:\n",
    "    for palavra in palavras:\n",
    "        arquivo_palavras.write(palavra + '\\n')\n",
    "\n",
    "# Lê e imprime o conteúdo do \"palavras.txt\"\n",
    "with open(\"palavras.txt\", 'r') as arquivo_palavras:\n",
    "    print(arquivo_palavras.read())"
   ]
  }
 ],
 "metadata": {
  "kernelspec": {
   "display_name": "base",
   "language": "python",
   "name": "python3"
  },
  "language_info": {
   "codemirror_mode": {
    "name": "ipython",
    "version": 3
   },
   "file_extension": ".py",
   "mimetype": "text/x-python",
   "name": "python",
   "nbconvert_exporter": "python",
   "pygments_lexer": "ipython3",
   "version": "3.11.7"
  }
 },
 "nbformat": 4,
 "nbformat_minor": 2
}
